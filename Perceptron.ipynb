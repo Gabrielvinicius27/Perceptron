{
  "nbformat": 4,
  "nbformat_minor": 0,
  "metadata": {
    "colab": {
      "name": "Perceptron.ipynb",
      "provenance": [],
      "collapsed_sections": [],
      "authorship_tag": "ABX9TyMjN4MX3Rd9tiAUbqC8w2J/",
      "include_colab_link": true
    },
    "kernelspec": {
      "name": "python3",
      "display_name": "Python 3"
    },
    "language_info": {
      "name": "python"
    }
  },
  "cells": [
    {
      "cell_type": "markdown",
      "metadata": {
        "id": "view-in-github",
        "colab_type": "text"
      },
      "source": [
        "<a href=\"https://colab.research.google.com/github/Gabrielvinicius27/Perceptron/blob/main/Perceptron.ipynb\" target=\"_parent\"><img src=\"https://colab.research.google.com/assets/colab-badge.svg\" alt=\"Open In Colab\"/></a>"
      ]
    },
    {
      "cell_type": "code",
      "metadata": {
        "id": "FNusHLrnvpUq"
      },
      "source": [
        "import numpy as np\n",
        "import pandas as pd\n",
        "import random\n",
        "\n",
        "import matplotlib.pyplot as plt\n",
        "import seaborn as sns\n",
        "import plotly.express as px\n",
        "from plotly.subplots import make_subplots\n",
        "import plotly.graph_objects as go\n",
        "from IPython.display import HTML\n",
        "import plotly.offline as py\n",
        "\n",
        "from sklearn.preprocessing import StandardScaler\n",
        "\n",
        "from sklearn.metrics import confusion_matrix\n",
        "\n",
        "random.seed(0)"
      ],
      "execution_count": 24,
      "outputs": []
    },
    {
      "cell_type": "code",
      "metadata": {
        "colab": {
          "base_uri": "https://localhost:8080/",
          "height": 195
        },
        "id": "63c0Gcu590h8",
        "outputId": "8e2c0de4-041b-42f3-ff1c-49dfe7cec229"
      },
      "source": [
        "data = pd.read_csv('https://raw.githubusercontent.com/Gabrielvinicius27/Perceptron/main/Dados/Data_Perceptron.csv')\n",
        "data = pd.DataFrame(data)\n",
        "\n",
        "data.head() "
      ],
      "execution_count": 25,
      "outputs": [
        {
          "output_type": "execute_result",
          "data": {
            "text/html": [
              "<div>\n",
              "<style scoped>\n",
              "    .dataframe tbody tr th:only-of-type {\n",
              "        vertical-align: middle;\n",
              "    }\n",
              "\n",
              "    .dataframe tbody tr th {\n",
              "        vertical-align: top;\n",
              "    }\n",
              "\n",
              "    .dataframe thead th {\n",
              "        text-align: right;\n",
              "    }\n",
              "</style>\n",
              "<table border=\"1\" class=\"dataframe\">\n",
              "  <thead>\n",
              "    <tr style=\"text-align: right;\">\n",
              "      <th></th>\n",
              "      <th>x1</th>\n",
              "      <th>x2</th>\n",
              "      <th>x3</th>\n",
              "      <th>d</th>\n",
              "    </tr>\n",
              "  </thead>\n",
              "  <tbody>\n",
              "    <tr>\n",
              "      <th>0</th>\n",
              "      <td>-0.6508</td>\n",
              "      <td>0.1097</td>\n",
              "      <td>4.0009</td>\n",
              "      <td>-1</td>\n",
              "    </tr>\n",
              "    <tr>\n",
              "      <th>1</th>\n",
              "      <td>-1.4492</td>\n",
              "      <td>0.8896</td>\n",
              "      <td>4.4005</td>\n",
              "      <td>-1</td>\n",
              "    </tr>\n",
              "    <tr>\n",
              "      <th>2</th>\n",
              "      <td>2.0850</td>\n",
              "      <td>0.6876</td>\n",
              "      <td>12.0710</td>\n",
              "      <td>-1</td>\n",
              "    </tr>\n",
              "    <tr>\n",
              "      <th>3</th>\n",
              "      <td>0.2626</td>\n",
              "      <td>1.1476</td>\n",
              "      <td>7.7985</td>\n",
              "      <td>1</td>\n",
              "    </tr>\n",
              "    <tr>\n",
              "      <th>4</th>\n",
              "      <td>0.6418</td>\n",
              "      <td>1.0234</td>\n",
              "      <td>7.0427</td>\n",
              "      <td>1</td>\n",
              "    </tr>\n",
              "  </tbody>\n",
              "</table>\n",
              "</div>"
            ],
            "text/plain": [
              "       x1      x2       x3  d\n",
              "0 -0.6508  0.1097   4.0009 -1\n",
              "1 -1.4492  0.8896   4.4005 -1\n",
              "2  2.0850  0.6876  12.0710 -1\n",
              "3  0.2626  1.1476   7.7985  1\n",
              "4  0.6418  1.0234   7.0427  1"
            ]
          },
          "metadata": {
            "tags": []
          },
          "execution_count": 25
        }
      ]
    },
    {
      "cell_type": "code",
      "metadata": {
        "colab": {
          "base_uri": "https://localhost:8080/",
          "height": 284
        },
        "id": "EVEoku4QsPtR",
        "outputId": "aad68dac-b162-4a70-c9f2-10f3d16d05eb"
      },
      "source": [
        "data.describe()"
      ],
      "execution_count": 26,
      "outputs": [
        {
          "output_type": "execute_result",
          "data": {
            "text/html": [
              "<div>\n",
              "<style scoped>\n",
              "    .dataframe tbody tr th:only-of-type {\n",
              "        vertical-align: middle;\n",
              "    }\n",
              "\n",
              "    .dataframe tbody tr th {\n",
              "        vertical-align: top;\n",
              "    }\n",
              "\n",
              "    .dataframe thead th {\n",
              "        text-align: right;\n",
              "    }\n",
              "</style>\n",
              "<table border=\"1\" class=\"dataframe\">\n",
              "  <thead>\n",
              "    <tr style=\"text-align: right;\">\n",
              "      <th></th>\n",
              "      <th>x1</th>\n",
              "      <th>x2</th>\n",
              "      <th>x3</th>\n",
              "      <th>d</th>\n",
              "    </tr>\n",
              "  </thead>\n",
              "  <tbody>\n",
              "    <tr>\n",
              "      <th>count</th>\n",
              "      <td>30.000000</td>\n",
              "      <td>30.000000</td>\n",
              "      <td>30.000000</td>\n",
              "      <td>30.000000</td>\n",
              "    </tr>\n",
              "    <tr>\n",
              "      <th>mean</th>\n",
              "      <td>0.272497</td>\n",
              "      <td>0.556747</td>\n",
              "      <td>6.531860</td>\n",
              "      <td>0.066667</td>\n",
              "    </tr>\n",
              "    <tr>\n",
              "      <th>std</th>\n",
              "      <td>0.918388</td>\n",
              "      <td>0.366427</td>\n",
              "      <td>2.449843</td>\n",
              "      <td>1.014833</td>\n",
              "    </tr>\n",
              "    <tr>\n",
              "      <th>min</th>\n",
              "      <td>-1.449200</td>\n",
              "      <td>-0.197300</td>\n",
              "      <td>1.725200</td>\n",
              "      <td>-1.000000</td>\n",
              "    </tr>\n",
              "    <tr>\n",
              "      <th>25%</th>\n",
              "      <td>-0.086700</td>\n",
              "      <td>0.233425</td>\n",
              "      <td>5.440000</td>\n",
              "      <td>-1.000000</td>\n",
              "    </tr>\n",
              "    <tr>\n",
              "      <th>50%</th>\n",
              "      <td>0.259750</td>\n",
              "      <td>0.611750</td>\n",
              "      <td>7.055200</td>\n",
              "      <td>1.000000</td>\n",
              "    </tr>\n",
              "    <tr>\n",
              "      <th>75%</th>\n",
              "      <td>0.519000</td>\n",
              "      <td>0.854050</td>\n",
              "      <td>7.485600</td>\n",
              "      <td>1.000000</td>\n",
              "    </tr>\n",
              "    <tr>\n",
              "      <th>max</th>\n",
              "      <td>2.448200</td>\n",
              "      <td>1.147600</td>\n",
              "      <td>12.071000</td>\n",
              "      <td>1.000000</td>\n",
              "    </tr>\n",
              "  </tbody>\n",
              "</table>\n",
              "</div>"
            ],
            "text/plain": [
              "              x1         x2         x3          d\n",
              "count  30.000000  30.000000  30.000000  30.000000\n",
              "mean    0.272497   0.556747   6.531860   0.066667\n",
              "std     0.918388   0.366427   2.449843   1.014833\n",
              "min    -1.449200  -0.197300   1.725200  -1.000000\n",
              "25%    -0.086700   0.233425   5.440000  -1.000000\n",
              "50%     0.259750   0.611750   7.055200   1.000000\n",
              "75%     0.519000   0.854050   7.485600   1.000000\n",
              "max     2.448200   1.147600  12.071000   1.000000"
            ]
          },
          "metadata": {
            "tags": []
          },
          "execution_count": 26
        }
      ]
    },
    {
      "cell_type": "code",
      "metadata": {
        "colab": {
          "base_uri": "https://localhost:8080/",
          "height": 1000
        },
        "id": "Nk0B2VlTFhNw",
        "outputId": "b3c3ae96-be51-4cfb-cbb4-cca6433eb818"
      },
      "source": [
        "fig = px.scatter_3d(data, x='x1', y='x2', z='x3',\n",
        "                    color= data['d'].astype('category'),\n",
        "                    labels = dict(color ='Saída D'),\n",
        "                    title = 'Distribuição dos Dados',\n",
        "                    height=800,\n",
        "                    template = 'ggplot2')\n",
        "\n",
        "fig.update_layout(title_font = {'family':'helvetica',\n",
        "                                'size':30},\n",
        "                  title_xref = 'paper',\n",
        "                  title_x = 0.5,\n",
        "                  title_xanchor = 'center',\n",
        "                  legend_font=dict(size = 15))     \n",
        " \n",
        "fig.show(renderer=\"colab\")            \n",
        "fig.show(renderer=\"notebook_connected\")"
      ],
      "execution_count": 46,
      "outputs": [
        {
          "output_type": "display_data",
          "data": {
            "text/html": [
              "<html>\n",
              "<head><meta charset=\"utf-8\" /></head>\n",
              "<body>\n",
              "    <div>\n",
              "            <script src=\"https://cdnjs.cloudflare.com/ajax/libs/mathjax/2.7.5/MathJax.js?config=TeX-AMS-MML_SVG\"></script><script type=\"text/javascript\">if (window.MathJax) {MathJax.Hub.Config({SVG: {font: \"STIX-Web\"}});}</script>\n",
              "                <script type=\"text/javascript\">window.PlotlyConfig = {MathJaxConfig: 'local'};</script>\n",
              "        <script src=\"https://cdn.plot.ly/plotly-latest.min.js\"></script>    \n",
              "            <div id=\"b4d050c0-1c67-4ce9-9b7a-383e13299463\" class=\"plotly-graph-div\" style=\"height:800px; width:100%;\"></div>\n",
              "            <script type=\"text/javascript\">\n",
              "                \n",
              "                    window.PLOTLYENV=window.PLOTLYENV || {};\n",
              "                    \n",
              "                if (document.getElementById(\"b4d050c0-1c67-4ce9-9b7a-383e13299463\")) {\n",
              "                    Plotly.newPlot(\n",
              "                        'b4d050c0-1c67-4ce9-9b7a-383e13299463',\n",
              "                        [{\"hoverlabel\": {\"namelength\": 0}, \"hovertemplate\": \"Sa\\u00edda D=-1<br>x1=%{x}<br>x2=%{y}<br>x3=%{z}\", \"legendgroup\": \"Sa\\u00edda D=-1\", \"marker\": {\"color\": \"#F8766D\", \"symbol\": \"circle\"}, \"mode\": \"markers\", \"name\": \"Sa\\u00edda D=-1\", \"scene\": \"scene\", \"showlegend\": true, \"type\": \"scatter3d\", \"x\": [-0.6508, -1.4492, 2.085, 0.2569, 0.0914, 0.434, 0.4839, 0.4089, 1.4391, -0.9115, -0.1147, 0.3957, -0.1013, 2.0149], \"y\": [0.1097, 0.8896, 0.6876, 0.6729999999999999, 0.3399, 0.687, 0.4851, -0.1267, 0.1614, -0.1973, 0.2242, 0.1076, 0.5989, 0.6192], \"z\": [4.0009, 4.4005, 12.071, 8.3265, 7.0677, 8.2287, 7.485, 5.5019, 8.5843, 2.1962, 7.2435, 5.6623, 7.1812, 10.9263]}, {\"hoverlabel\": {\"namelength\": 0}, \"hovertemplate\": \"Sa\\u00edda D=1<br>x1=%{x}<br>x2=%{y}<br>x3=%{z}\", \"legendgroup\": \"Sa\\u00edda D=1\", \"marker\": {\"color\": \"#A3A500\", \"symbol\": \"circle\"}, \"mode\": \"markers\", \"name\": \"Sa\\u00edda D=1\", \"scene\": \"scene\", \"showlegend\": true, \"type\": \"scatter3d\", \"x\": [0.2626, 0.6418, 1.1155, 0.0121, -0.0429, 0.2735, 0.3654, 0.2144, 0.2013, 0.6483, -0.797, -1.0625, 0.5307, -1.22, 2.4482, 0.2012], \"y\": [1.1476, 1.0234, 0.6043, 0.5256, 0.466, 1.0287, 1.0475, 0.7515, 1.0014, 0.2183, 0.8795, 0.6366, 0.1285, 0.7777, 0.9455, 0.2611], \"z\": [7.7985, 7.0427, 7.4446, 4.6316, 5.4323, 7.1934, 7.4858, 7.1699, 6.5489, 5.8991, 3.8762, 2.4707, 5.6883, 1.7252, 11.2095, 5.4631]}],\n",
              "                        {\"height\": 800, \"legend\": {\"font\": {\"size\": 15}, \"tracegroupgap\": 0}, \"scene\": {\"domain\": {\"x\": [0.0, 1.0], \"y\": [0.0, 1.0]}, \"xaxis\": {\"title\": {\"text\": \"x1\"}}, \"yaxis\": {\"title\": {\"text\": \"x2\"}}, \"zaxis\": {\"title\": {\"text\": \"x3\"}}}, \"template\": {\"data\": {\"bar\": [{\"error_x\": {\"color\": \"rgb(51,51,51)\"}, \"error_y\": {\"color\": \"rgb(51,51,51)\"}, \"marker\": {\"line\": {\"color\": \"rgb(237,237,237)\", \"width\": 0.5}}, \"type\": \"bar\"}], \"barpolar\": [{\"marker\": {\"line\": {\"color\": \"rgb(237,237,237)\", \"width\": 0.5}}, \"type\": \"barpolar\"}], \"carpet\": [{\"aaxis\": {\"endlinecolor\": \"rgb(51,51,51)\", \"gridcolor\": \"white\", \"linecolor\": \"white\", \"minorgridcolor\": \"white\", \"startlinecolor\": \"rgb(51,51,51)\"}, \"baxis\": {\"endlinecolor\": \"rgb(51,51,51)\", \"gridcolor\": \"white\", \"linecolor\": \"white\", \"minorgridcolor\": \"white\", \"startlinecolor\": \"rgb(51,51,51)\"}, \"type\": \"carpet\"}], \"choropleth\": [{\"colorbar\": {\"outlinewidth\": 0, \"tickcolor\": \"rgb(237,237,237)\", \"ticklen\": 6, \"ticks\": \"inside\"}, \"type\": \"choropleth\"}], \"contour\": [{\"colorbar\": {\"outlinewidth\": 0, \"tickcolor\": \"rgb(237,237,237)\", \"ticklen\": 6, \"ticks\": \"inside\"}, \"colorscale\": [[0, \"rgb(20,44,66)\"], [1, \"rgb(90,179,244)\"]], \"type\": \"contour\"}], \"contourcarpet\": [{\"colorbar\": {\"outlinewidth\": 0, \"tickcolor\": \"rgb(237,237,237)\", \"ticklen\": 6, \"ticks\": \"inside\"}, \"type\": \"contourcarpet\"}], \"heatmap\": [{\"colorbar\": {\"outlinewidth\": 0, \"tickcolor\": \"rgb(237,237,237)\", \"ticklen\": 6, \"ticks\": \"inside\"}, \"colorscale\": [[0, \"rgb(20,44,66)\"], [1, \"rgb(90,179,244)\"]], \"type\": \"heatmap\"}], \"heatmapgl\": [{\"colorbar\": {\"outlinewidth\": 0, \"tickcolor\": \"rgb(237,237,237)\", \"ticklen\": 6, \"ticks\": \"inside\"}, \"colorscale\": [[0, \"rgb(20,44,66)\"], [1, \"rgb(90,179,244)\"]], \"type\": \"heatmapgl\"}], \"histogram\": [{\"marker\": {\"colorbar\": {\"outlinewidth\": 0, \"tickcolor\": \"rgb(237,237,237)\", \"ticklen\": 6, \"ticks\": \"inside\"}}, \"type\": \"histogram\"}], \"histogram2d\": [{\"colorbar\": {\"outlinewidth\": 0, \"tickcolor\": \"rgb(237,237,237)\", \"ticklen\": 6, \"ticks\": \"inside\"}, \"colorscale\": [[0, \"rgb(20,44,66)\"], [1, \"rgb(90,179,244)\"]], \"type\": \"histogram2d\"}], \"histogram2dcontour\": [{\"colorbar\": {\"outlinewidth\": 0, \"tickcolor\": \"rgb(237,237,237)\", \"ticklen\": 6, \"ticks\": \"inside\"}, \"colorscale\": [[0, \"rgb(20,44,66)\"], [1, \"rgb(90,179,244)\"]], \"type\": \"histogram2dcontour\"}], \"mesh3d\": [{\"colorbar\": {\"outlinewidth\": 0, \"tickcolor\": \"rgb(237,237,237)\", \"ticklen\": 6, \"ticks\": \"inside\"}, \"type\": \"mesh3d\"}], \"parcoords\": [{\"line\": {\"colorbar\": {\"outlinewidth\": 0, \"tickcolor\": \"rgb(237,237,237)\", \"ticklen\": 6, \"ticks\": \"inside\"}}, \"type\": \"parcoords\"}], \"pie\": [{\"automargin\": true, \"type\": \"pie\"}], \"scatter\": [{\"marker\": {\"colorbar\": {\"outlinewidth\": 0, \"tickcolor\": \"rgb(237,237,237)\", \"ticklen\": 6, \"ticks\": \"inside\"}}, \"type\": \"scatter\"}], \"scatter3d\": [{\"line\": {\"colorbar\": {\"outlinewidth\": 0, \"tickcolor\": \"rgb(237,237,237)\", \"ticklen\": 6, \"ticks\": \"inside\"}}, \"marker\": {\"colorbar\": {\"outlinewidth\": 0, \"tickcolor\": \"rgb(237,237,237)\", \"ticklen\": 6, \"ticks\": \"inside\"}}, \"type\": \"scatter3d\"}], \"scattercarpet\": [{\"marker\": {\"colorbar\": {\"outlinewidth\": 0, \"tickcolor\": \"rgb(237,237,237)\", \"ticklen\": 6, \"ticks\": \"inside\"}}, \"type\": \"scattercarpet\"}], \"scattergeo\": [{\"marker\": {\"colorbar\": {\"outlinewidth\": 0, \"tickcolor\": \"rgb(237,237,237)\", \"ticklen\": 6, \"ticks\": \"inside\"}}, \"type\": \"scattergeo\"}], \"scattergl\": [{\"marker\": {\"colorbar\": {\"outlinewidth\": 0, \"tickcolor\": \"rgb(237,237,237)\", \"ticklen\": 6, \"ticks\": \"inside\"}}, \"type\": \"scattergl\"}], \"scattermapbox\": [{\"marker\": {\"colorbar\": {\"outlinewidth\": 0, \"tickcolor\": \"rgb(237,237,237)\", \"ticklen\": 6, \"ticks\": \"inside\"}}, \"type\": \"scattermapbox\"}], \"scatterpolar\": [{\"marker\": {\"colorbar\": {\"outlinewidth\": 0, \"tickcolor\": \"rgb(237,237,237)\", \"ticklen\": 6, \"ticks\": \"inside\"}}, \"type\": \"scatterpolar\"}], \"scatterpolargl\": [{\"marker\": {\"colorbar\": {\"outlinewidth\": 0, \"tickcolor\": \"rgb(237,237,237)\", \"ticklen\": 6, \"ticks\": \"inside\"}}, \"type\": \"scatterpolargl\"}], \"scatterternary\": [{\"marker\": {\"colorbar\": {\"outlinewidth\": 0, \"tickcolor\": \"rgb(237,237,237)\", \"ticklen\": 6, \"ticks\": \"inside\"}}, \"type\": \"scatterternary\"}], \"surface\": [{\"colorbar\": {\"outlinewidth\": 0, \"tickcolor\": \"rgb(237,237,237)\", \"ticklen\": 6, \"ticks\": \"inside\"}, \"colorscale\": [[0, \"rgb(20,44,66)\"], [1, \"rgb(90,179,244)\"]], \"type\": \"surface\"}], \"table\": [{\"cells\": {\"fill\": {\"color\": \"rgb(237,237,237)\"}, \"line\": {\"color\": \"white\"}}, \"header\": {\"fill\": {\"color\": \"rgb(217,217,217)\"}, \"line\": {\"color\": \"white\"}}, \"type\": \"table\"}]}, \"layout\": {\"annotationdefaults\": {\"arrowhead\": 0, \"arrowwidth\": 1}, \"coloraxis\": {\"colorbar\": {\"outlinewidth\": 0, \"tickcolor\": \"rgb(237,237,237)\", \"ticklen\": 6, \"ticks\": \"inside\"}}, \"colorscale\": {\"sequential\": [[0, \"rgb(20,44,66)\"], [1, \"rgb(90,179,244)\"]], \"sequentialminus\": [[0, \"rgb(20,44,66)\"], [1, \"rgb(90,179,244)\"]]}, \"colorway\": [\"#F8766D\", \"#A3A500\", \"#00BF7D\", \"#00B0F6\", \"#E76BF3\"], \"font\": {\"color\": \"rgb(51,51,51)\"}, \"geo\": {\"bgcolor\": \"white\", \"lakecolor\": \"white\", \"landcolor\": \"rgb(237,237,237)\", \"showlakes\": true, \"showland\": true, \"subunitcolor\": \"white\"}, \"hoverlabel\": {\"align\": \"left\"}, \"hovermode\": \"closest\", \"paper_bgcolor\": \"white\", \"plot_bgcolor\": \"rgb(237,237,237)\", \"polar\": {\"angularaxis\": {\"gridcolor\": \"white\", \"linecolor\": \"white\", \"showgrid\": true, \"tickcolor\": \"rgb(51,51,51)\", \"ticks\": \"outside\"}, \"bgcolor\": \"rgb(237,237,237)\", \"radialaxis\": {\"gridcolor\": \"white\", \"linecolor\": \"white\", \"showgrid\": true, \"tickcolor\": \"rgb(51,51,51)\", \"ticks\": \"outside\"}}, \"scene\": {\"xaxis\": {\"backgroundcolor\": \"rgb(237,237,237)\", \"gridcolor\": \"white\", \"gridwidth\": 2, \"linecolor\": \"white\", \"showbackground\": true, \"showgrid\": true, \"tickcolor\": \"rgb(51,51,51)\", \"ticks\": \"outside\", \"zerolinecolor\": \"white\"}, \"yaxis\": {\"backgroundcolor\": \"rgb(237,237,237)\", \"gridcolor\": \"white\", \"gridwidth\": 2, \"linecolor\": \"white\", \"showbackground\": true, \"showgrid\": true, \"tickcolor\": \"rgb(51,51,51)\", \"ticks\": \"outside\", \"zerolinecolor\": \"white\"}, \"zaxis\": {\"backgroundcolor\": \"rgb(237,237,237)\", \"gridcolor\": \"white\", \"gridwidth\": 2, \"linecolor\": \"white\", \"showbackground\": true, \"showgrid\": true, \"tickcolor\": \"rgb(51,51,51)\", \"ticks\": \"outside\", \"zerolinecolor\": \"white\"}}, \"shapedefaults\": {\"fillcolor\": \"black\", \"line\": {\"width\": 0}, \"opacity\": 0.3}, \"ternary\": {\"aaxis\": {\"gridcolor\": \"white\", \"linecolor\": \"white\", \"showgrid\": true, \"tickcolor\": \"rgb(51,51,51)\", \"ticks\": \"outside\"}, \"baxis\": {\"gridcolor\": \"white\", \"linecolor\": \"white\", \"showgrid\": true, \"tickcolor\": \"rgb(51,51,51)\", \"ticks\": \"outside\"}, \"bgcolor\": \"rgb(237,237,237)\", \"caxis\": {\"gridcolor\": \"white\", \"linecolor\": \"white\", \"showgrid\": true, \"tickcolor\": \"rgb(51,51,51)\", \"ticks\": \"outside\"}}, \"xaxis\": {\"automargin\": true, \"gridcolor\": \"white\", \"linecolor\": \"white\", \"showgrid\": true, \"tickcolor\": \"rgb(51,51,51)\", \"ticks\": \"outside\", \"title\": {\"standoff\": 15}, \"zerolinecolor\": \"white\"}, \"yaxis\": {\"automargin\": true, \"gridcolor\": \"white\", \"linecolor\": \"white\", \"showgrid\": true, \"tickcolor\": \"rgb(51,51,51)\", \"ticks\": \"outside\", \"title\": {\"standoff\": 15}, \"zerolinecolor\": \"white\"}}}, \"title\": {\"font\": {\"family\": \"helvetica\", \"size\": 30}, \"text\": \"Distribui\\u00e7\\u00e3o dos Dados\", \"x\": 0.5, \"xanchor\": \"center\", \"xref\": \"paper\"}},\n",
              "                        {\"responsive\": true}\n",
              "                    ).then(function(){\n",
              "                            \n",
              "var gd = document.getElementById('b4d050c0-1c67-4ce9-9b7a-383e13299463');\n",
              "var x = new MutationObserver(function (mutations, observer) {{\n",
              "        var display = window.getComputedStyle(gd).display;\n",
              "        if (!display || display === 'none') {{\n",
              "            console.log([gd, 'removed!']);\n",
              "            Plotly.purge(gd);\n",
              "            observer.disconnect();\n",
              "        }}\n",
              "}});\n",
              "\n",
              "// Listen for the removal of the full notebook cells\n",
              "var notebookContainer = gd.closest('#notebook-container');\n",
              "if (notebookContainer) {{\n",
              "    x.observe(notebookContainer, {childList: true});\n",
              "}}\n",
              "\n",
              "// Listen for the clearing of the current output cell\n",
              "var outputEl = gd.closest('.output');\n",
              "if (outputEl) {{\n",
              "    x.observe(outputEl, {childList: true});\n",
              "}}\n",
              "\n",
              "                        })\n",
              "                };\n",
              "                \n",
              "            </script>\n",
              "        </div>\n",
              "</body>\n",
              "</html>"
            ]
          },
          "metadata": {
            "tags": []
          }
        },
        {
          "output_type": "display_data",
          "data": {
            "text/html": [
              "        <script type=\"text/javascript\">\n",
              "        window.PlotlyConfig = {MathJaxConfig: 'local'};\n",
              "        if (window.MathJax) {MathJax.Hub.Config({SVG: {font: \"STIX-Web\"}});}\n",
              "        if (typeof require !== 'undefined') {\n",
              "        require.undef(\"plotly\");\n",
              "        requirejs.config({\n",
              "            paths: {\n",
              "                'plotly': ['https://cdn.plot.ly/plotly-latest.min']\n",
              "            }\n",
              "        });\n",
              "        require(['plotly'], function(Plotly) {\n",
              "            window._Plotly = Plotly;\n",
              "        });\n",
              "        }\n",
              "        </script>\n",
              "        "
            ]
          },
          "metadata": {
            "tags": []
          }
        },
        {
          "output_type": "display_data",
          "data": {
            "text/html": [
              "<div>\n",
              "        \n",
              "        \n",
              "            <div id=\"6be20803-a1f9-42a4-a7ee-be911575a92d\" class=\"plotly-graph-div\" style=\"height:800px; width:100%;\"></div>\n",
              "            <script type=\"text/javascript\">\n",
              "                require([\"plotly\"], function(Plotly) {\n",
              "                    window.PLOTLYENV=window.PLOTLYENV || {};\n",
              "                    \n",
              "                if (document.getElementById(\"6be20803-a1f9-42a4-a7ee-be911575a92d\")) {\n",
              "                    Plotly.newPlot(\n",
              "                        '6be20803-a1f9-42a4-a7ee-be911575a92d',\n",
              "                        [{\"hoverlabel\": {\"namelength\": 0}, \"hovertemplate\": \"Sa\\u00edda D=-1<br>x1=%{x}<br>x2=%{y}<br>x3=%{z}\", \"legendgroup\": \"Sa\\u00edda D=-1\", \"marker\": {\"color\": \"#F8766D\", \"symbol\": \"circle\"}, \"mode\": \"markers\", \"name\": \"Sa\\u00edda D=-1\", \"scene\": \"scene\", \"showlegend\": true, \"type\": \"scatter3d\", \"x\": [-0.6508, -1.4492, 2.085, 0.2569, 0.0914, 0.434, 0.4839, 0.4089, 1.4391, -0.9115, -0.1147, 0.3957, -0.1013, 2.0149], \"y\": [0.1097, 0.8896, 0.6876, 0.6729999999999999, 0.3399, 0.687, 0.4851, -0.1267, 0.1614, -0.1973, 0.2242, 0.1076, 0.5989, 0.6192], \"z\": [4.0009, 4.4005, 12.071, 8.3265, 7.0677, 8.2287, 7.485, 5.5019, 8.5843, 2.1962, 7.2435, 5.6623, 7.1812, 10.9263]}, {\"hoverlabel\": {\"namelength\": 0}, \"hovertemplate\": \"Sa\\u00edda D=1<br>x1=%{x}<br>x2=%{y}<br>x3=%{z}\", \"legendgroup\": \"Sa\\u00edda D=1\", \"marker\": {\"color\": \"#A3A500\", \"symbol\": \"circle\"}, \"mode\": \"markers\", \"name\": \"Sa\\u00edda D=1\", \"scene\": \"scene\", \"showlegend\": true, \"type\": \"scatter3d\", \"x\": [0.2626, 0.6418, 1.1155, 0.0121, -0.0429, 0.2735, 0.3654, 0.2144, 0.2013, 0.6483, -0.797, -1.0625, 0.5307, -1.22, 2.4482, 0.2012], \"y\": [1.1476, 1.0234, 0.6043, 0.5256, 0.466, 1.0287, 1.0475, 0.7515, 1.0014, 0.2183, 0.8795, 0.6366, 0.1285, 0.7777, 0.9455, 0.2611], \"z\": [7.7985, 7.0427, 7.4446, 4.6316, 5.4323, 7.1934, 7.4858, 7.1699, 6.5489, 5.8991, 3.8762, 2.4707, 5.6883, 1.7252, 11.2095, 5.4631]}],\n",
              "                        {\"height\": 800, \"legend\": {\"font\": {\"size\": 15}, \"tracegroupgap\": 0}, \"scene\": {\"domain\": {\"x\": [0.0, 1.0], \"y\": [0.0, 1.0]}, \"xaxis\": {\"title\": {\"text\": \"x1\"}}, \"yaxis\": {\"title\": {\"text\": \"x2\"}}, \"zaxis\": {\"title\": {\"text\": \"x3\"}}}, \"template\": {\"data\": {\"bar\": [{\"error_x\": {\"color\": \"rgb(51,51,51)\"}, \"error_y\": {\"color\": \"rgb(51,51,51)\"}, \"marker\": {\"line\": {\"color\": \"rgb(237,237,237)\", \"width\": 0.5}}, \"type\": \"bar\"}], \"barpolar\": [{\"marker\": {\"line\": {\"color\": \"rgb(237,237,237)\", \"width\": 0.5}}, \"type\": \"barpolar\"}], \"carpet\": [{\"aaxis\": {\"endlinecolor\": \"rgb(51,51,51)\", \"gridcolor\": \"white\", \"linecolor\": \"white\", \"minorgridcolor\": \"white\", \"startlinecolor\": \"rgb(51,51,51)\"}, \"baxis\": {\"endlinecolor\": \"rgb(51,51,51)\", \"gridcolor\": \"white\", \"linecolor\": \"white\", \"minorgridcolor\": \"white\", \"startlinecolor\": \"rgb(51,51,51)\"}, \"type\": \"carpet\"}], \"choropleth\": [{\"colorbar\": {\"outlinewidth\": 0, \"tickcolor\": \"rgb(237,237,237)\", \"ticklen\": 6, \"ticks\": \"inside\"}, \"type\": \"choropleth\"}], \"contour\": [{\"colorbar\": {\"outlinewidth\": 0, \"tickcolor\": \"rgb(237,237,237)\", \"ticklen\": 6, \"ticks\": \"inside\"}, \"colorscale\": [[0, \"rgb(20,44,66)\"], [1, \"rgb(90,179,244)\"]], \"type\": \"contour\"}], \"contourcarpet\": [{\"colorbar\": {\"outlinewidth\": 0, \"tickcolor\": \"rgb(237,237,237)\", \"ticklen\": 6, \"ticks\": \"inside\"}, \"type\": \"contourcarpet\"}], \"heatmap\": [{\"colorbar\": {\"outlinewidth\": 0, \"tickcolor\": \"rgb(237,237,237)\", \"ticklen\": 6, \"ticks\": \"inside\"}, \"colorscale\": [[0, \"rgb(20,44,66)\"], [1, \"rgb(90,179,244)\"]], \"type\": \"heatmap\"}], \"heatmapgl\": [{\"colorbar\": {\"outlinewidth\": 0, \"tickcolor\": \"rgb(237,237,237)\", \"ticklen\": 6, \"ticks\": \"inside\"}, \"colorscale\": [[0, \"rgb(20,44,66)\"], [1, \"rgb(90,179,244)\"]], \"type\": \"heatmapgl\"}], \"histogram\": [{\"marker\": {\"colorbar\": {\"outlinewidth\": 0, \"tickcolor\": \"rgb(237,237,237)\", \"ticklen\": 6, \"ticks\": \"inside\"}}, \"type\": \"histogram\"}], \"histogram2d\": [{\"colorbar\": {\"outlinewidth\": 0, \"tickcolor\": \"rgb(237,237,237)\", \"ticklen\": 6, \"ticks\": \"inside\"}, \"colorscale\": [[0, \"rgb(20,44,66)\"], [1, \"rgb(90,179,244)\"]], \"type\": \"histogram2d\"}], \"histogram2dcontour\": [{\"colorbar\": {\"outlinewidth\": 0, \"tickcolor\": \"rgb(237,237,237)\", \"ticklen\": 6, \"ticks\": \"inside\"}, \"colorscale\": [[0, \"rgb(20,44,66)\"], [1, \"rgb(90,179,244)\"]], \"type\": \"histogram2dcontour\"}], \"mesh3d\": [{\"colorbar\": {\"outlinewidth\": 0, \"tickcolor\": \"rgb(237,237,237)\", \"ticklen\": 6, \"ticks\": \"inside\"}, \"type\": \"mesh3d\"}], \"parcoords\": [{\"line\": {\"colorbar\": {\"outlinewidth\": 0, \"tickcolor\": \"rgb(237,237,237)\", \"ticklen\": 6, \"ticks\": \"inside\"}}, \"type\": \"parcoords\"}], \"pie\": [{\"automargin\": true, \"type\": \"pie\"}], \"scatter\": [{\"marker\": {\"colorbar\": {\"outlinewidth\": 0, \"tickcolor\": \"rgb(237,237,237)\", \"ticklen\": 6, \"ticks\": \"inside\"}}, \"type\": \"scatter\"}], \"scatter3d\": [{\"line\": {\"colorbar\": {\"outlinewidth\": 0, \"tickcolor\": \"rgb(237,237,237)\", \"ticklen\": 6, \"ticks\": \"inside\"}}, \"marker\": {\"colorbar\": {\"outlinewidth\": 0, \"tickcolor\": \"rgb(237,237,237)\", \"ticklen\": 6, \"ticks\": \"inside\"}}, \"type\": \"scatter3d\"}], \"scattercarpet\": [{\"marker\": {\"colorbar\": {\"outlinewidth\": 0, \"tickcolor\": \"rgb(237,237,237)\", \"ticklen\": 6, \"ticks\": \"inside\"}}, \"type\": \"scattercarpet\"}], \"scattergeo\": [{\"marker\": {\"colorbar\": {\"outlinewidth\": 0, \"tickcolor\": \"rgb(237,237,237)\", \"ticklen\": 6, \"ticks\": \"inside\"}}, \"type\": \"scattergeo\"}], \"scattergl\": [{\"marker\": {\"colorbar\": {\"outlinewidth\": 0, \"tickcolor\": \"rgb(237,237,237)\", \"ticklen\": 6, \"ticks\": \"inside\"}}, \"type\": \"scattergl\"}], \"scattermapbox\": [{\"marker\": {\"colorbar\": {\"outlinewidth\": 0, \"tickcolor\": \"rgb(237,237,237)\", \"ticklen\": 6, \"ticks\": \"inside\"}}, \"type\": \"scattermapbox\"}], \"scatterpolar\": [{\"marker\": {\"colorbar\": {\"outlinewidth\": 0, \"tickcolor\": \"rgb(237,237,237)\", \"ticklen\": 6, \"ticks\": \"inside\"}}, \"type\": \"scatterpolar\"}], \"scatterpolargl\": [{\"marker\": {\"colorbar\": {\"outlinewidth\": 0, \"tickcolor\": \"rgb(237,237,237)\", \"ticklen\": 6, \"ticks\": \"inside\"}}, \"type\": \"scatterpolargl\"}], \"scatterternary\": [{\"marker\": {\"colorbar\": {\"outlinewidth\": 0, \"tickcolor\": \"rgb(237,237,237)\", \"ticklen\": 6, \"ticks\": \"inside\"}}, \"type\": \"scatterternary\"}], \"surface\": [{\"colorbar\": {\"outlinewidth\": 0, \"tickcolor\": \"rgb(237,237,237)\", \"ticklen\": 6, \"ticks\": \"inside\"}, \"colorscale\": [[0, \"rgb(20,44,66)\"], [1, \"rgb(90,179,244)\"]], \"type\": \"surface\"}], \"table\": [{\"cells\": {\"fill\": {\"color\": \"rgb(237,237,237)\"}, \"line\": {\"color\": \"white\"}}, \"header\": {\"fill\": {\"color\": \"rgb(217,217,217)\"}, \"line\": {\"color\": \"white\"}}, \"type\": \"table\"}]}, \"layout\": {\"annotationdefaults\": {\"arrowhead\": 0, \"arrowwidth\": 1}, \"coloraxis\": {\"colorbar\": {\"outlinewidth\": 0, \"tickcolor\": \"rgb(237,237,237)\", \"ticklen\": 6, \"ticks\": \"inside\"}}, \"colorscale\": {\"sequential\": [[0, \"rgb(20,44,66)\"], [1, \"rgb(90,179,244)\"]], \"sequentialminus\": [[0, \"rgb(20,44,66)\"], [1, \"rgb(90,179,244)\"]]}, \"colorway\": [\"#F8766D\", \"#A3A500\", \"#00BF7D\", \"#00B0F6\", \"#E76BF3\"], \"font\": {\"color\": \"rgb(51,51,51)\"}, \"geo\": {\"bgcolor\": \"white\", \"lakecolor\": \"white\", \"landcolor\": \"rgb(237,237,237)\", \"showlakes\": true, \"showland\": true, \"subunitcolor\": \"white\"}, \"hoverlabel\": {\"align\": \"left\"}, \"hovermode\": \"closest\", \"paper_bgcolor\": \"white\", \"plot_bgcolor\": \"rgb(237,237,237)\", \"polar\": {\"angularaxis\": {\"gridcolor\": \"white\", \"linecolor\": \"white\", \"showgrid\": true, \"tickcolor\": \"rgb(51,51,51)\", \"ticks\": \"outside\"}, \"bgcolor\": \"rgb(237,237,237)\", \"radialaxis\": {\"gridcolor\": \"white\", \"linecolor\": \"white\", \"showgrid\": true, \"tickcolor\": \"rgb(51,51,51)\", \"ticks\": \"outside\"}}, \"scene\": {\"xaxis\": {\"backgroundcolor\": \"rgb(237,237,237)\", \"gridcolor\": \"white\", \"gridwidth\": 2, \"linecolor\": \"white\", \"showbackground\": true, \"showgrid\": true, \"tickcolor\": \"rgb(51,51,51)\", \"ticks\": \"outside\", \"zerolinecolor\": \"white\"}, \"yaxis\": {\"backgroundcolor\": \"rgb(237,237,237)\", \"gridcolor\": \"white\", \"gridwidth\": 2, \"linecolor\": \"white\", \"showbackground\": true, \"showgrid\": true, \"tickcolor\": \"rgb(51,51,51)\", \"ticks\": \"outside\", \"zerolinecolor\": \"white\"}, \"zaxis\": {\"backgroundcolor\": \"rgb(237,237,237)\", \"gridcolor\": \"white\", \"gridwidth\": 2, \"linecolor\": \"white\", \"showbackground\": true, \"showgrid\": true, \"tickcolor\": \"rgb(51,51,51)\", \"ticks\": \"outside\", \"zerolinecolor\": \"white\"}}, \"shapedefaults\": {\"fillcolor\": \"black\", \"line\": {\"width\": 0}, \"opacity\": 0.3}, \"ternary\": {\"aaxis\": {\"gridcolor\": \"white\", \"linecolor\": \"white\", \"showgrid\": true, \"tickcolor\": \"rgb(51,51,51)\", \"ticks\": \"outside\"}, \"baxis\": {\"gridcolor\": \"white\", \"linecolor\": \"white\", \"showgrid\": true, \"tickcolor\": \"rgb(51,51,51)\", \"ticks\": \"outside\"}, \"bgcolor\": \"rgb(237,237,237)\", \"caxis\": {\"gridcolor\": \"white\", \"linecolor\": \"white\", \"showgrid\": true, \"tickcolor\": \"rgb(51,51,51)\", \"ticks\": \"outside\"}}, \"xaxis\": {\"automargin\": true, \"gridcolor\": \"white\", \"linecolor\": \"white\", \"showgrid\": true, \"tickcolor\": \"rgb(51,51,51)\", \"ticks\": \"outside\", \"title\": {\"standoff\": 15}, \"zerolinecolor\": \"white\"}, \"yaxis\": {\"automargin\": true, \"gridcolor\": \"white\", \"linecolor\": \"white\", \"showgrid\": true, \"tickcolor\": \"rgb(51,51,51)\", \"ticks\": \"outside\", \"title\": {\"standoff\": 15}, \"zerolinecolor\": \"white\"}}}, \"title\": {\"font\": {\"family\": \"helvetica\", \"size\": 30}, \"text\": \"Distribui\\u00e7\\u00e3o dos Dados\", \"x\": 0.5, \"xanchor\": \"center\", \"xref\": \"paper\"}},\n",
              "                        {\"responsive\": true}\n",
              "                    ).then(function(){\n",
              "                            \n",
              "var gd = document.getElementById('6be20803-a1f9-42a4-a7ee-be911575a92d');\n",
              "var x = new MutationObserver(function (mutations, observer) {{\n",
              "        var display = window.getComputedStyle(gd).display;\n",
              "        if (!display || display === 'none') {{\n",
              "            console.log([gd, 'removed!']);\n",
              "            Plotly.purge(gd);\n",
              "            observer.disconnect();\n",
              "        }}\n",
              "}});\n",
              "\n",
              "// Listen for the removal of the full notebook cells\n",
              "var notebookContainer = gd.closest('#notebook-container');\n",
              "if (notebookContainer) {{\n",
              "    x.observe(notebookContainer, {childList: true});\n",
              "}}\n",
              "\n",
              "// Listen for the clearing of the current output cell\n",
              "var outputEl = gd.closest('.output');\n",
              "if (outputEl) {{\n",
              "    x.observe(outputEl, {childList: true});\n",
              "}}\n",
              "\n",
              "                        })\n",
              "                };\n",
              "                });\n",
              "            </script>\n",
              "        </div>"
            ]
          },
          "metadata": {
            "tags": []
          }
        }
      ]
    },
    {
      "cell_type": "code",
      "metadata": {
        "id": "viAzClkiALIE"
      },
      "source": [
        "entradas = data.loc[:,'x1':'x3']\n",
        "saidas = data.loc[:,'d']\n",
        "pesos = np.array([0.0, 0.0, 0.0])\n",
        "pesosIniciais = np.array([0.0, 0.0, 0.0])\n",
        "logpesos = [[0],[0],[0]]\n",
        "taxaAprendizagem = 0.1"
      ],
      "execution_count": 28,
      "outputs": []
    },
    {
      "cell_type": "code",
      "metadata": {
        "colab": {
          "base_uri": "https://localhost:8080/"
        },
        "id": "k7gAc5dxtYzt",
        "outputId": "9b907f71-a4d0-4ac0-e67d-0bd4b18bb7a9"
      },
      "source": [
        "scaler = StandardScaler()\n",
        "\n",
        "entradas = scaler.fit_transform(entradas)\n",
        "print(entradas)"
      ],
      "execution_count": 29,
      "outputs": [
        {
          "output_type": "stream",
          "text": [
            "[[-1.02253157e+00 -1.24087254e+00 -1.05077220e+00]\n",
            " [-1.90674273e+00  9.23904802e-01 -8.84871291e-01]\n",
            " [ 2.00730919e+00  3.63211093e-01  2.29967061e+00]\n",
            " [-1.09603495e-02  1.64003835e+00  5.25867696e-01]\n",
            " [ 4.08995649e-01  1.29529499e+00  2.12084139e-01]\n",
            " [-1.72729792e-02  3.22685706e-01  7.45076108e-01]\n",
            " [ 9.33608402e-01  1.31994331e-01  3.78939936e-01]\n",
            " [-2.00560737e-01 -6.01903771e-01  2.22463325e-01]\n",
            " [-2.88383813e-01 -8.64541586e-02 -7.88926094e-01]\n",
            " [-3.49295153e-01 -2.51886560e-01 -4.56501519e-01]\n",
            " [ 1.78861534e-01  3.61545666e-01  7.04472732e-01]\n",
            " [ 1.11117049e-03  1.31000626e+00  2.74649873e-01]\n",
            " [ 2.34124731e-01 -1.98870472e-01  3.95712701e-01]\n",
            " [ 1.51063813e-01 -1.89705072e+00 -4.27605864e-01]\n",
            " [ 1.29198857e+00 -1.09736826e+00  8.52106276e-01]\n",
            " [-1.31125132e+00 -2.09301595e+00 -1.80002490e+00]\n",
            " [ 1.02888481e-01  1.36218964e+00  3.96044835e-01]\n",
            " [-6.43408324e-02  5.40579053e-01  2.64893438e-01]\n",
            " [-7.88488059e-02  1.23422934e+00  7.07445330e-03]\n",
            " [ 4.16194261e-01 -9.39430281e-01 -2.62701354e-01]\n",
            " [-4.28812138e-01 -9.23053583e-01  2.95449762e-01]\n",
            " [-1.18444499e+00  8.95870116e-01 -1.10254358e+00]\n",
            " [-1.47848064e+00  2.21649810e-01 -1.68606143e+00]\n",
            " [ 2.85954743e-01 -1.18868917e+00 -3.50218652e-01]\n",
            " [-1.65290856e+00  6.13302693e-01 -1.99556876e+00]\n",
            " [ 1.36445092e-01 -1.24670154e+00 -3.61013006e-01]\n",
            " [-4.13971920e-01  1.17005489e-01  2.69584830e-01]\n",
            " [ 2.40954553e+00  1.07906707e+00  1.94200386e+00]\n",
            " [ 1.92967492e+00  1.73352431e-01  1.82442844e+00]\n",
            " [-7.89595538e-02 -8.20629832e-01 -4.43714361e-01]]\n"
          ],
          "name": "stdout"
        }
      ]
    },
    {
      "cell_type": "code",
      "metadata": {
        "colab": {
          "base_uri": "https://localhost:8080/",
          "height": 817
        },
        "id": "yoXqMGJXw1q9",
        "outputId": "a4e5e018-5970-4e9a-daf4-dd0faabcb6fd"
      },
      "source": [
        "data_standard = pd.DataFrame(entradas, columns=['x1','x2','x3'])\n",
        "data_standard['d'] = data['d']\n",
        "\n",
        "fig = make_subplots(rows=2, cols=3,\n",
        "                    subplot_titles = (\"X1 antes da Padronização\", \"X2 antes da Padronização\", \"X3 antes da Padronização\",\n",
        "                                      \"X1 depois da Padronização\", \"X2 depois da Padronização\", \"X3 depois da Padronização\"))\n",
        "\n",
        "cols = ['x1', 'x2', 'x3']\n",
        "for column in range(1,4):\n",
        "    fig.add_trace(\n",
        "        go.Histogram(x=data[cols[column-1]], nbinsx = 20),\n",
        "        row=1, col=column)\n",
        "    \n",
        "\n",
        "for column in range(1,4):\n",
        "    fig.add_trace(\n",
        "        go.Histogram(x=data_standard[cols[column-1]], nbinsx = 20),\n",
        "        row=2, col=column)\n",
        "\n",
        "fig.update_layout(height = 800,\n",
        "                  title_text = 'Histogramas dos Dados Antes e Depois da Padronização',\n",
        "                  title_font = {'family':'helvetica',\n",
        "                                'size':30},\n",
        "                  title_xref = 'paper',\n",
        "                  title_x = 0.5,\n",
        "                  title_xanchor = 'center',\n",
        "                  showlegend = False,\n",
        "                  template = 'ggplot2')                 \n",
        "\n",
        "fig.show(renderer=\"colab\")\n"
      ],
      "execution_count": 30,
      "outputs": [
        {
          "output_type": "display_data",
          "data": {
            "text/html": [
              "<html>\n",
              "<head><meta charset=\"utf-8\" /></head>\n",
              "<body>\n",
              "    <div>\n",
              "            <script src=\"https://cdnjs.cloudflare.com/ajax/libs/mathjax/2.7.5/MathJax.js?config=TeX-AMS-MML_SVG\"></script><script type=\"text/javascript\">if (window.MathJax) {MathJax.Hub.Config({SVG: {font: \"STIX-Web\"}});}</script>\n",
              "                <script type=\"text/javascript\">window.PlotlyConfig = {MathJaxConfig: 'local'};</script>\n",
              "        <script src=\"https://cdn.plot.ly/plotly-latest.min.js\"></script>    \n",
              "            <div id=\"6d46b959-91da-456a-8f1e-db82e0eec4dd\" class=\"plotly-graph-div\" style=\"height:800px; width:100%;\"></div>\n",
              "            <script type=\"text/javascript\">\n",
              "                \n",
              "                    window.PLOTLYENV=window.PLOTLYENV || {};\n",
              "                    \n",
              "                if (document.getElementById(\"6d46b959-91da-456a-8f1e-db82e0eec4dd\")) {\n",
              "                    Plotly.newPlot(\n",
              "                        '6d46b959-91da-456a-8f1e-db82e0eec4dd',\n",
              "                        [{\"nbinsx\": 20, \"type\": \"histogram\", \"x\": [-0.6508, -1.4492, 2.085, 0.2626, 0.6418, 0.2569, 1.1155, 0.0914, 0.0121, -0.0429, 0.434, 0.2735, 0.4839, 0.4089, 1.4391, -0.9115, 0.3654, 0.2144, 0.2013, 0.6483, -0.1147, -0.797, -1.0625, 0.5307, -1.22, 0.3957, -0.1013, 2.4482, 2.0149, 0.2012], \"xaxis\": \"x\", \"yaxis\": \"y\"}, {\"nbinsx\": 20, \"type\": \"histogram\", \"x\": [0.1097, 0.8896, 0.6876, 1.1476, 1.0234, 0.6729999999999999, 0.6043, 0.3399, 0.5256, 0.466, 0.687, 1.0287, 0.4851, -0.1267, 0.1614, -0.1973, 1.0475, 0.7515, 1.0014, 0.2183, 0.2242, 0.8795, 0.6366, 0.1285, 0.7777, 0.1076, 0.5989, 0.9455, 0.6192, 0.2611], \"xaxis\": \"x2\", \"yaxis\": \"y2\"}, {\"nbinsx\": 20, \"type\": \"histogram\", \"x\": [4.0009, 4.4005, 12.071, 7.7985, 7.0427, 8.3265, 7.4446, 7.0677, 4.6316, 5.4323, 8.2287, 7.1934, 7.485, 5.5019, 8.5843, 2.1962, 7.4858, 7.1699, 6.5489, 5.8991, 7.2435, 3.8762, 2.4707, 5.6883, 1.7252, 5.6623, 7.1812, 11.2095, 10.9263, 5.4631], \"xaxis\": \"x3\", \"yaxis\": \"y3\"}, {\"nbinsx\": 20, \"type\": \"histogram\", \"x\": [-1.0225315747824915, -1.9067427268206676, 2.0073091939375014, -0.010960349492323582, 0.40899564856989634, -0.017272979210030983, 0.9336084024783181, -0.20056073680311487, -0.288383813402097, -0.3492951527834844, 0.17886153359803636, 0.0011111704941695769, 0.23412473060042235, 0.15106381326216684, 1.2919885738204449, -1.3112513234502676, 0.10288848120597865, -0.06434083236837579, -0.07884880593012442, 0.41619426140587845, -0.42881213764864096, -1.1844449896471976, -1.478480637024622, 0.28595474301949375, -1.6529085634349585, 0.13644509181063388, -0.4139719204175394, 2.4095455296342267, 1.9296749231986783, -0.07895955381990878], \"xaxis\": \"x4\", \"yaxis\": \"y4\"}, {\"nbinsx\": 20, \"type\": \"histogram\", \"x\": [-1.2408725420129765, 0.9239048015512752, 0.36321109287070236, 1.640038350262106, 1.2952949907664273, 0.32268570600567065, 0.13199433082569367, -0.6019037710314523, -0.08645415864540083, -0.2518865598204608, 0.36154566601323546, 1.3100062613407193, -0.19887047152442655, -1.8970507238549936, -1.0973682611278992, -2.0930159507502832, 1.3621896362080206, 0.5405790531909429, 1.234229339325969, -0.9394302808114408, -0.9230535833796814, 0.8958701161172465, 0.2216498099860034, -1.1886891671456756, 0.6133026926336707, -1.2467015360141112, 0.11700548910849033, 1.079067070438622, 0.17335243111945878, -0.8206298316454579], \"xaxis\": \"x5\", \"yaxis\": \"y5\"}, {\"nbinsx\": 20, \"type\": \"histogram\", \"x\": [-1.0507722027691109, -0.8848712907726599, 2.2996706148048554, 0.525867695623585, 0.21208413884951746, 0.7450761078711474, 0.378939935975077, 0.22246332503548172, -0.7889260936696075, -0.4565015185055483, 0.7044727315116559, 0.2746498731785091, 0.39571270085159505, -0.427605864163824, 0.8521062758208101, -1.8000248951614894, 0.3960448348095459, 0.26489343816370303, 0.007074453304353776, -0.26270135404122597, 0.2954497622951814, -1.1025435834646997, -1.6860614308396034, -0.3502186519612755, -1.9955687629050538, -0.3610130055946781, 0.2695848303197586, 1.9420038588365316, 1.8244284377219298, -0.44371436112444046], \"xaxis\": \"x6\", \"yaxis\": \"y6\"}],\n",
              "                        {\"annotations\": [{\"font\": {\"size\": 16}, \"showarrow\": false, \"text\": \"X1 antes da Padroniza\\u00e7\\u00e3o\", \"x\": 0.14444444444444446, \"xanchor\": \"center\", \"xref\": \"paper\", \"y\": 1.0, \"yanchor\": \"bottom\", \"yref\": \"paper\"}, {\"font\": {\"size\": 16}, \"showarrow\": false, \"text\": \"X2 antes da Padroniza\\u00e7\\u00e3o\", \"x\": 0.5, \"xanchor\": \"center\", \"xref\": \"paper\", \"y\": 1.0, \"yanchor\": \"bottom\", \"yref\": \"paper\"}, {\"font\": {\"size\": 16}, \"showarrow\": false, \"text\": \"X3 antes da Padroniza\\u00e7\\u00e3o\", \"x\": 0.8555555555555556, \"xanchor\": \"center\", \"xref\": \"paper\", \"y\": 1.0, \"yanchor\": \"bottom\", \"yref\": \"paper\"}, {\"font\": {\"size\": 16}, \"showarrow\": false, \"text\": \"X1 depois da Padroniza\\u00e7\\u00e3o\", \"x\": 0.14444444444444446, \"xanchor\": \"center\", \"xref\": \"paper\", \"y\": 0.375, \"yanchor\": \"bottom\", \"yref\": \"paper\"}, {\"font\": {\"size\": 16}, \"showarrow\": false, \"text\": \"X2 depois da Padroniza\\u00e7\\u00e3o\", \"x\": 0.5, \"xanchor\": \"center\", \"xref\": \"paper\", \"y\": 0.375, \"yanchor\": \"bottom\", \"yref\": \"paper\"}, {\"font\": {\"size\": 16}, \"showarrow\": false, \"text\": \"X3 depois da Padroniza\\u00e7\\u00e3o\", \"x\": 0.8555555555555556, \"xanchor\": \"center\", \"xref\": \"paper\", \"y\": 0.375, \"yanchor\": \"bottom\", \"yref\": \"paper\"}], \"height\": 800, \"showlegend\": false, \"template\": {\"data\": {\"bar\": [{\"error_x\": {\"color\": \"rgb(51,51,51)\"}, \"error_y\": {\"color\": \"rgb(51,51,51)\"}, \"marker\": {\"line\": {\"color\": \"rgb(237,237,237)\", \"width\": 0.5}}, \"type\": \"bar\"}], \"barpolar\": [{\"marker\": {\"line\": {\"color\": \"rgb(237,237,237)\", \"width\": 0.5}}, \"type\": \"barpolar\"}], \"carpet\": [{\"aaxis\": {\"endlinecolor\": \"rgb(51,51,51)\", \"gridcolor\": \"white\", \"linecolor\": \"white\", \"minorgridcolor\": \"white\", \"startlinecolor\": \"rgb(51,51,51)\"}, \"baxis\": {\"endlinecolor\": \"rgb(51,51,51)\", \"gridcolor\": \"white\", \"linecolor\": \"white\", \"minorgridcolor\": \"white\", \"startlinecolor\": \"rgb(51,51,51)\"}, \"type\": \"carpet\"}], \"choropleth\": [{\"colorbar\": {\"outlinewidth\": 0, \"tickcolor\": \"rgb(237,237,237)\", \"ticklen\": 6, \"ticks\": \"inside\"}, \"type\": \"choropleth\"}], \"contour\": [{\"colorbar\": {\"outlinewidth\": 0, \"tickcolor\": \"rgb(237,237,237)\", \"ticklen\": 6, \"ticks\": \"inside\"}, \"colorscale\": [[0, \"rgb(20,44,66)\"], [1, \"rgb(90,179,244)\"]], \"type\": \"contour\"}], \"contourcarpet\": [{\"colorbar\": {\"outlinewidth\": 0, \"tickcolor\": \"rgb(237,237,237)\", \"ticklen\": 6, \"ticks\": \"inside\"}, \"type\": \"contourcarpet\"}], \"heatmap\": [{\"colorbar\": {\"outlinewidth\": 0, \"tickcolor\": \"rgb(237,237,237)\", \"ticklen\": 6, \"ticks\": \"inside\"}, \"colorscale\": [[0, \"rgb(20,44,66)\"], [1, \"rgb(90,179,244)\"]], \"type\": \"heatmap\"}], \"heatmapgl\": [{\"colorbar\": {\"outlinewidth\": 0, \"tickcolor\": \"rgb(237,237,237)\", \"ticklen\": 6, \"ticks\": \"inside\"}, \"colorscale\": [[0, \"rgb(20,44,66)\"], [1, \"rgb(90,179,244)\"]], \"type\": \"heatmapgl\"}], \"histogram\": [{\"marker\": {\"colorbar\": {\"outlinewidth\": 0, \"tickcolor\": \"rgb(237,237,237)\", \"ticklen\": 6, \"ticks\": \"inside\"}}, \"type\": \"histogram\"}], \"histogram2d\": [{\"colorbar\": {\"outlinewidth\": 0, \"tickcolor\": \"rgb(237,237,237)\", \"ticklen\": 6, \"ticks\": \"inside\"}, \"colorscale\": [[0, \"rgb(20,44,66)\"], [1, \"rgb(90,179,244)\"]], \"type\": \"histogram2d\"}], \"histogram2dcontour\": [{\"colorbar\": {\"outlinewidth\": 0, \"tickcolor\": \"rgb(237,237,237)\", \"ticklen\": 6, \"ticks\": \"inside\"}, \"colorscale\": [[0, \"rgb(20,44,66)\"], [1, \"rgb(90,179,244)\"]], \"type\": \"histogram2dcontour\"}], \"mesh3d\": [{\"colorbar\": {\"outlinewidth\": 0, \"tickcolor\": \"rgb(237,237,237)\", \"ticklen\": 6, \"ticks\": \"inside\"}, \"type\": \"mesh3d\"}], \"parcoords\": [{\"line\": {\"colorbar\": {\"outlinewidth\": 0, \"tickcolor\": \"rgb(237,237,237)\", \"ticklen\": 6, \"ticks\": \"inside\"}}, \"type\": \"parcoords\"}], \"pie\": [{\"automargin\": true, \"type\": \"pie\"}], \"scatter\": [{\"marker\": {\"colorbar\": {\"outlinewidth\": 0, \"tickcolor\": \"rgb(237,237,237)\", \"ticklen\": 6, \"ticks\": \"inside\"}}, \"type\": \"scatter\"}], \"scatter3d\": [{\"line\": {\"colorbar\": {\"outlinewidth\": 0, \"tickcolor\": \"rgb(237,237,237)\", \"ticklen\": 6, \"ticks\": \"inside\"}}, \"marker\": {\"colorbar\": {\"outlinewidth\": 0, \"tickcolor\": \"rgb(237,237,237)\", \"ticklen\": 6, \"ticks\": \"inside\"}}, \"type\": \"scatter3d\"}], \"scattercarpet\": [{\"marker\": {\"colorbar\": {\"outlinewidth\": 0, \"tickcolor\": \"rgb(237,237,237)\", \"ticklen\": 6, \"ticks\": \"inside\"}}, \"type\": \"scattercarpet\"}], \"scattergeo\": [{\"marker\": {\"colorbar\": {\"outlinewidth\": 0, \"tickcolor\": \"rgb(237,237,237)\", \"ticklen\": 6, \"ticks\": \"inside\"}}, \"type\": \"scattergeo\"}], \"scattergl\": [{\"marker\": {\"colorbar\": {\"outlinewidth\": 0, \"tickcolor\": \"rgb(237,237,237)\", \"ticklen\": 6, \"ticks\": \"inside\"}}, \"type\": \"scattergl\"}], \"scattermapbox\": [{\"marker\": {\"colorbar\": {\"outlinewidth\": 0, \"tickcolor\": \"rgb(237,237,237)\", \"ticklen\": 6, \"ticks\": \"inside\"}}, \"type\": \"scattermapbox\"}], \"scatterpolar\": [{\"marker\": {\"colorbar\": {\"outlinewidth\": 0, \"tickcolor\": \"rgb(237,237,237)\", \"ticklen\": 6, \"ticks\": \"inside\"}}, \"type\": \"scatterpolar\"}], \"scatterpolargl\": [{\"marker\": {\"colorbar\": {\"outlinewidth\": 0, \"tickcolor\": \"rgb(237,237,237)\", \"ticklen\": 6, \"ticks\": \"inside\"}}, \"type\": \"scatterpolargl\"}], \"scatterternary\": [{\"marker\": {\"colorbar\": {\"outlinewidth\": 0, \"tickcolor\": \"rgb(237,237,237)\", \"ticklen\": 6, \"ticks\": \"inside\"}}, \"type\": \"scatterternary\"}], \"surface\": [{\"colorbar\": {\"outlinewidth\": 0, \"tickcolor\": \"rgb(237,237,237)\", \"ticklen\": 6, \"ticks\": \"inside\"}, \"colorscale\": [[0, \"rgb(20,44,66)\"], [1, \"rgb(90,179,244)\"]], \"type\": \"surface\"}], \"table\": [{\"cells\": {\"fill\": {\"color\": \"rgb(237,237,237)\"}, \"line\": {\"color\": \"white\"}}, \"header\": {\"fill\": {\"color\": \"rgb(217,217,217)\"}, \"line\": {\"color\": \"white\"}}, \"type\": \"table\"}]}, \"layout\": {\"annotationdefaults\": {\"arrowhead\": 0, \"arrowwidth\": 1}, \"coloraxis\": {\"colorbar\": {\"outlinewidth\": 0, \"tickcolor\": \"rgb(237,237,237)\", \"ticklen\": 6, \"ticks\": \"inside\"}}, \"colorscale\": {\"sequential\": [[0, \"rgb(20,44,66)\"], [1, \"rgb(90,179,244)\"]], \"sequentialminus\": [[0, \"rgb(20,44,66)\"], [1, \"rgb(90,179,244)\"]]}, \"colorway\": [\"#F8766D\", \"#A3A500\", \"#00BF7D\", \"#00B0F6\", \"#E76BF3\"], \"font\": {\"color\": \"rgb(51,51,51)\"}, \"geo\": {\"bgcolor\": \"white\", \"lakecolor\": \"white\", \"landcolor\": \"rgb(237,237,237)\", \"showlakes\": true, \"showland\": true, \"subunitcolor\": \"white\"}, \"hoverlabel\": {\"align\": \"left\"}, \"hovermode\": \"closest\", \"paper_bgcolor\": \"white\", \"plot_bgcolor\": \"rgb(237,237,237)\", \"polar\": {\"angularaxis\": {\"gridcolor\": \"white\", \"linecolor\": \"white\", \"showgrid\": true, \"tickcolor\": \"rgb(51,51,51)\", \"ticks\": \"outside\"}, \"bgcolor\": \"rgb(237,237,237)\", \"radialaxis\": {\"gridcolor\": \"white\", \"linecolor\": \"white\", \"showgrid\": true, \"tickcolor\": \"rgb(51,51,51)\", \"ticks\": \"outside\"}}, \"scene\": {\"xaxis\": {\"backgroundcolor\": \"rgb(237,237,237)\", \"gridcolor\": \"white\", \"gridwidth\": 2, \"linecolor\": \"white\", \"showbackground\": true, \"showgrid\": true, \"tickcolor\": \"rgb(51,51,51)\", \"ticks\": \"outside\", \"zerolinecolor\": \"white\"}, \"yaxis\": {\"backgroundcolor\": \"rgb(237,237,237)\", \"gridcolor\": \"white\", \"gridwidth\": 2, \"linecolor\": \"white\", \"showbackground\": true, \"showgrid\": true, \"tickcolor\": \"rgb(51,51,51)\", \"ticks\": \"outside\", \"zerolinecolor\": \"white\"}, \"zaxis\": {\"backgroundcolor\": \"rgb(237,237,237)\", \"gridcolor\": \"white\", \"gridwidth\": 2, \"linecolor\": \"white\", \"showbackground\": true, \"showgrid\": true, \"tickcolor\": \"rgb(51,51,51)\", \"ticks\": \"outside\", \"zerolinecolor\": \"white\"}}, \"shapedefaults\": {\"fillcolor\": \"black\", \"line\": {\"width\": 0}, \"opacity\": 0.3}, \"ternary\": {\"aaxis\": {\"gridcolor\": \"white\", \"linecolor\": \"white\", \"showgrid\": true, \"tickcolor\": \"rgb(51,51,51)\", \"ticks\": \"outside\"}, \"baxis\": {\"gridcolor\": \"white\", \"linecolor\": \"white\", \"showgrid\": true, \"tickcolor\": \"rgb(51,51,51)\", \"ticks\": \"outside\"}, \"bgcolor\": \"rgb(237,237,237)\", \"caxis\": {\"gridcolor\": \"white\", \"linecolor\": \"white\", \"showgrid\": true, \"tickcolor\": \"rgb(51,51,51)\", \"ticks\": \"outside\"}}, \"xaxis\": {\"automargin\": true, \"gridcolor\": \"white\", \"linecolor\": \"white\", \"showgrid\": true, \"tickcolor\": \"rgb(51,51,51)\", \"ticks\": \"outside\", \"title\": {\"standoff\": 15}, \"zerolinecolor\": \"white\"}, \"yaxis\": {\"automargin\": true, \"gridcolor\": \"white\", \"linecolor\": \"white\", \"showgrid\": true, \"tickcolor\": \"rgb(51,51,51)\", \"ticks\": \"outside\", \"title\": {\"standoff\": 15}, \"zerolinecolor\": \"white\"}}}, \"title\": {\"font\": {\"family\": \"helvetica\", \"size\": 30}, \"text\": \"Histogramas dos Dados Antes e Depois da Padroniza\\u00e7\\u00e3o\", \"x\": 0.5, \"xanchor\": \"center\", \"xref\": \"paper\"}, \"xaxis\": {\"anchor\": \"y\", \"domain\": [0.0, 0.2888888888888889]}, \"xaxis2\": {\"anchor\": \"y2\", \"domain\": [0.35555555555555557, 0.6444444444444445]}, \"xaxis3\": {\"anchor\": \"y3\", \"domain\": [0.7111111111111111, 1.0]}, \"xaxis4\": {\"anchor\": \"y4\", \"domain\": [0.0, 0.2888888888888889]}, \"xaxis5\": {\"anchor\": \"y5\", \"domain\": [0.35555555555555557, 0.6444444444444445]}, \"xaxis6\": {\"anchor\": \"y6\", \"domain\": [0.7111111111111111, 1.0]}, \"yaxis\": {\"anchor\": \"x\", \"domain\": [0.625, 1.0]}, \"yaxis2\": {\"anchor\": \"x2\", \"domain\": [0.625, 1.0]}, \"yaxis3\": {\"anchor\": \"x3\", \"domain\": [0.625, 1.0]}, \"yaxis4\": {\"anchor\": \"x4\", \"domain\": [0.0, 0.375]}, \"yaxis5\": {\"anchor\": \"x5\", \"domain\": [0.0, 0.375]}, \"yaxis6\": {\"anchor\": \"x6\", \"domain\": [0.0, 0.375]}},\n",
              "                        {\"responsive\": true}\n",
              "                    ).then(function(){\n",
              "                            \n",
              "var gd = document.getElementById('6d46b959-91da-456a-8f1e-db82e0eec4dd');\n",
              "var x = new MutationObserver(function (mutations, observer) {{\n",
              "        var display = window.getComputedStyle(gd).display;\n",
              "        if (!display || display === 'none') {{\n",
              "            console.log([gd, 'removed!']);\n",
              "            Plotly.purge(gd);\n",
              "            observer.disconnect();\n",
              "        }}\n",
              "}});\n",
              "\n",
              "// Listen for the removal of the full notebook cells\n",
              "var notebookContainer = gd.closest('#notebook-container');\n",
              "if (notebookContainer) {{\n",
              "    x.observe(notebookContainer, {childList: true});\n",
              "}}\n",
              "\n",
              "// Listen for the clearing of the current output cell\n",
              "var outputEl = gd.closest('.output');\n",
              "if (outputEl) {{\n",
              "    x.observe(outputEl, {childList: true});\n",
              "}}\n",
              "\n",
              "                        })\n",
              "                };\n",
              "                \n",
              "            </script>\n",
              "        </div>\n",
              "</body>\n",
              "</html>"
            ]
          },
          "metadata": {
            "tags": []
          }
        }
      ]
    },
    {
      "cell_type": "code",
      "metadata": {
        "id": "R8AJnmotx2Na"
      },
      "source": [
        "def stepFunction(soma):\n",
        "    if (soma > 0):\n",
        "        return 1\n",
        "    return -1"
      ],
      "execution_count": 31,
      "outputs": []
    },
    {
      "cell_type": "code",
      "metadata": {
        "id": "c3aCO3zCx0qZ"
      },
      "source": [
        "def calculaSaida(registro):\n",
        "    s = registro.dot(pesos)\n",
        "    #print(registro)\n",
        "    #print(s)\n",
        "    return stepFunction(s)"
      ],
      "execution_count": 32,
      "outputs": []
    },
    {
      "cell_type": "code",
      "metadata": {
        "id": "Y5DggAOOxwXo"
      },
      "source": [
        "def treinar():\n",
        "    epocas = 0\n",
        "    erroTotal = 1000\n",
        "    \n",
        "    while (erroTotal >= 2):\n",
        "        erroTotal = 0\n",
        "        epocas += 1\n",
        "        for i in range(len(saidas)):\n",
        "            saidaCalculada = calculaSaida(np.asarray(entradas[i]))\n",
        "            erro = saidas[i] - saidaCalculada\n",
        "            if (erro == 0):\n",
        "              erroTotal += 0\n",
        "            if (erro != 0):\n",
        "              erroTotal += 1\n",
        "             \n",
        "            for j in range(len(pesos)):\n",
        "                pesos[j] = pesos[j] + (taxaAprendizagem * entradas[i,j] * erro)\n",
        "                logpesos[j].append(pesos[j])\n",
        "                #print('Peso atualizado: ' + str(pesos[j]))\n",
        "                \n",
        "        print('\\nTOTAL DE ERROS: ' + str(erroTotal))\n",
        "        print(\"NÚMERO DE EPOCAS: \" + str(epocas))"
      ],
      "execution_count": 33,
      "outputs": []
    },
    {
      "cell_type": "code",
      "metadata": {
        "colab": {
          "base_uri": "https://localhost:8080/"
        },
        "id": "rpbafUCjvrxq",
        "outputId": "b4a3b6e5-1c00-4a52-b181-db1d0f25e8dd"
      },
      "source": [
        "treinar()\n",
        "\n",
        "print('Rede neural treinada')\n",
        "\n"
      ],
      "execution_count": 34,
      "outputs": [
        {
          "output_type": "stream",
          "text": [
            "\n",
            "TOTAL DE ERROS: 7\n",
            "NÚMERO DE EPOCAS: 1\n",
            "\n",
            "TOTAL DE ERROS: 10\n",
            "NÚMERO DE EPOCAS: 2\n",
            "\n",
            "TOTAL DE ERROS: 7\n",
            "NÚMERO DE EPOCAS: 3\n",
            "\n",
            "TOTAL DE ERROS: 7\n",
            "NÚMERO DE EPOCAS: 4\n",
            "\n",
            "TOTAL DE ERROS: 7\n",
            "NÚMERO DE EPOCAS: 5\n",
            "\n",
            "TOTAL DE ERROS: 7\n",
            "NÚMERO DE EPOCAS: 6\n",
            "\n",
            "TOTAL DE ERROS: 7\n",
            "NÚMERO DE EPOCAS: 7\n",
            "\n",
            "TOTAL DE ERROS: 3\n",
            "NÚMERO DE EPOCAS: 8\n",
            "\n",
            "TOTAL DE ERROS: 4\n",
            "NÚMERO DE EPOCAS: 9\n",
            "\n",
            "TOTAL DE ERROS: 2\n",
            "NÚMERO DE EPOCAS: 10\n",
            "\n",
            "TOTAL DE ERROS: 3\n",
            "NÚMERO DE EPOCAS: 11\n",
            "\n",
            "TOTAL DE ERROS: 4\n",
            "NÚMERO DE EPOCAS: 12\n",
            "\n",
            "TOTAL DE ERROS: 4\n",
            "NÚMERO DE EPOCAS: 13\n",
            "\n",
            "TOTAL DE ERROS: 3\n",
            "NÚMERO DE EPOCAS: 14\n",
            "\n",
            "TOTAL DE ERROS: 4\n",
            "NÚMERO DE EPOCAS: 15\n",
            "\n",
            "TOTAL DE ERROS: 2\n",
            "NÚMERO DE EPOCAS: 16\n",
            "\n",
            "TOTAL DE ERROS: 3\n",
            "NÚMERO DE EPOCAS: 17\n",
            "\n",
            "TOTAL DE ERROS: 4\n",
            "NÚMERO DE EPOCAS: 18\n",
            "\n",
            "TOTAL DE ERROS: 4\n",
            "NÚMERO DE EPOCAS: 19\n",
            "\n",
            "TOTAL DE ERROS: 3\n",
            "NÚMERO DE EPOCAS: 20\n",
            "\n",
            "TOTAL DE ERROS: 2\n",
            "NÚMERO DE EPOCAS: 21\n",
            "\n",
            "TOTAL DE ERROS: 2\n",
            "NÚMERO DE EPOCAS: 22\n",
            "\n",
            "TOTAL DE ERROS: 4\n",
            "NÚMERO DE EPOCAS: 23\n",
            "\n",
            "TOTAL DE ERROS: 4\n",
            "NÚMERO DE EPOCAS: 24\n",
            "\n",
            "TOTAL DE ERROS: 2\n",
            "NÚMERO DE EPOCAS: 25\n",
            "\n",
            "TOTAL DE ERROS: 2\n",
            "NÚMERO DE EPOCAS: 26\n",
            "\n",
            "TOTAL DE ERROS: 2\n",
            "NÚMERO DE EPOCAS: 27\n",
            "\n",
            "TOTAL DE ERROS: 3\n",
            "NÚMERO DE EPOCAS: 28\n",
            "\n",
            "TOTAL DE ERROS: 4\n",
            "NÚMERO DE EPOCAS: 29\n",
            "\n",
            "TOTAL DE ERROS: 3\n",
            "NÚMERO DE EPOCAS: 30\n",
            "\n",
            "TOTAL DE ERROS: 3\n",
            "NÚMERO DE EPOCAS: 31\n",
            "\n",
            "TOTAL DE ERROS: 4\n",
            "NÚMERO DE EPOCAS: 32\n",
            "\n",
            "TOTAL DE ERROS: 2\n",
            "NÚMERO DE EPOCAS: 33\n",
            "\n",
            "TOTAL DE ERROS: 2\n",
            "NÚMERO DE EPOCAS: 34\n",
            "\n",
            "TOTAL DE ERROS: 2\n",
            "NÚMERO DE EPOCAS: 35\n",
            "\n",
            "TOTAL DE ERROS: 1\n",
            "NÚMERO DE EPOCAS: 36\n",
            "Rede neural treinada\n"
          ],
          "name": "stdout"
        }
      ]
    },
    {
      "cell_type": "code",
      "metadata": {
        "colab": {
          "base_uri": "https://localhost:8080/"
        },
        "id": "K1V_SBiGvyz4",
        "outputId": "b75dc991-37e9-4945-c8b3-abf96688754a"
      },
      "source": [
        "print(\"Pesos iniciais:\\n\")\n",
        "print(pesosIniciais[0])\n",
        "print(pesosIniciais[1])\n",
        "print(pesosIniciais[2])\n",
        "\n",
        "print(\"\\nPesos finais:\\n\")\n",
        "print(pesos[0])\n",
        "print(pesos[1])\n",
        "print(pesos[2])"
      ],
      "execution_count": 35,
      "outputs": [
        {
          "output_type": "stream",
          "text": [
            "Pesos iniciais:\n",
            "\n",
            "0.0\n",
            "0.0\n",
            "0.0\n",
            "\n",
            "Pesos finais:\n",
            "\n",
            "1.753882582786199\n",
            "0.8981684051805505\n",
            "-2.0765861992680072\n"
          ],
          "name": "stdout"
        }
      ]
    },
    {
      "cell_type": "code",
      "metadata": {
        "colab": {
          "base_uri": "https://localhost:8080/",
          "height": 545
        },
        "id": "bPChs-c2QWyj",
        "outputId": "00d0fc9b-d966-403d-f787-2f1c6f2ab7de"
      },
      "source": [
        "resultados = list()\n",
        "for i in range(len(data['d'])):\n",
        "    resultados.append(calculaSaida(np.asarray(entradas[i])))\n",
        "\n",
        "data['resultados'] = resultados\n",
        "\n",
        "plt.figure(figsize = (10,8))\n",
        "ax = sns.heatmap(confusion_matrix(data['d'], data['resultados']), \n",
        "                 xticklabels = [-1,1],\n",
        "                 yticklabels = [-1,1],\n",
        "                 annot=True, \n",
        "                 annot_kws = {'size':18})\n",
        "plt.xticks(fontsize = 15)\n",
        "plt.yticks(fontsize = 15)\n",
        "plt.suptitle('Matriz de Confusão para Avaliar o Desempenho', fontsize = 25)\n",
        "plt.title('Um caso foi classificado erroneamente', fontsize = 18)\n",
        "plt.show()"
      ],
      "execution_count": 36,
      "outputs": [
        {
          "output_type": "display_data",
          "data": {
            "image/png": "[encoded data removed]",
            "text/plain": [
              "<Figure size 720x576 with 2 Axes>"
            ]
          },
          "metadata": {
            "tags": [],
            "needs_background": "light"
          }
        }
      ]
    },
    {
      "cell_type": "code",
      "metadata": {
        "colab": {
          "base_uri": "https://localhost:8080/",
          "height": 817
        },
        "id": "ZjrK7E8IXIlM",
        "outputId": "3ae7afe5-88d3-40a4-e8f9-b7c23321ace9"
      },
      "source": [
        "fig = px.scatter_3d(data_standard, x='x1', y='x2', z='x3',\n",
        "                    color= data['d'].astype('category'),\n",
        "                    labels = dict(color ='Saída D'),\n",
        "                    height=800,\n",
        "                    template = 'ggplot2')\n",
        "\n",
        "(x, y) = np.meshgrid(np.arange(-2, 2.1, 1), np.arange(-2, 2, .25))\n",
        "z = (x*pesos[0] + y*pesos[1])/-pesos[2] \n",
        "\n",
        "fig.add_surface(z = z, y = y, x = x, opacity=0.8, showscale=False)\n",
        "\n",
        "fig.update_layout(title_text = 'Solução Encontrada pelo Algoritmo Perceptron',\n",
        "                  title_font = {'family':'helvetica',\n",
        "                                'size':30},\n",
        "                  title_xref = 'paper',\n",
        "                  title_x = 0.5,\n",
        "                  title_xanchor = 'center',\n",
        "                  height = 800,\n",
        "                  legend_font=dict(size = 15),\n",
        "                  template = 'ggplot2',\n",
        "                  showlegend = True\n",
        "                  )                                  \n",
        "\n",
        "fig.show(renderer=\"colab\")\n"
      ],
      "execution_count": 37,
      "outputs": [
        {
          "output_type": "display_data",
          "data": {
            "text/html": [
              "<html>\n",
              "<head><meta charset=\"utf-8\" /></head>\n",
              "<body>\n",
              "    <div>\n",
              "            <script src=\"https://cdnjs.cloudflare.com/ajax/libs/mathjax/2.7.5/MathJax.js?config=TeX-AMS-MML_SVG\"></script><script type=\"text/javascript\">if (window.MathJax) {MathJax.Hub.Config({SVG: {font: \"STIX-Web\"}});}</script>\n",
              "                <script type=\"text/javascript\">window.PlotlyConfig = {MathJaxConfig: 'local'};</script>\n",
              "        <script src=\"https://cdn.plot.ly/plotly-latest.min.js\"></script>    \n",
              "            <div id=\"38607333-b594-4ab7-8f9b-b5d8f9f52948\" class=\"plotly-graph-div\" style=\"height:800px; width:100%;\"></div>\n",
              "            <script type=\"text/javascript\">\n",
              "                \n",
              "                    window.PLOTLYENV=window.PLOTLYENV || {};\n",
              "                    \n",
              "                if (document.getElementById(\"38607333-b594-4ab7-8f9b-b5d8f9f52948\")) {\n",
              "                    Plotly.newPlot(\n",
              "                        '38607333-b594-4ab7-8f9b-b5d8f9f52948',\n",
              "                        [{\"hoverlabel\": {\"namelength\": 0}, \"hovertemplate\": \"Sa\\u00edda D=-1<br>x1=%{x}<br>x2=%{y}<br>x3=%{z}\", \"legendgroup\": \"Sa\\u00edda D=-1\", \"marker\": {\"color\": \"#F8766D\", \"symbol\": \"circle\"}, \"mode\": \"markers\", \"name\": \"Sa\\u00edda D=-1\", \"scene\": \"scene\", \"showlegend\": true, \"type\": \"scatter3d\", \"x\": [-1.0225315747824915, -1.9067427268206676, 2.0073091939375014, -0.017272979210030983, -0.20056073680311487, 0.17886153359803636, 0.23412473060042235, 0.15106381326216684, 1.2919885738204449, -1.3112513234502676, -0.42881213764864096, 0.13644509181063388, -0.4139719204175394, 1.9296749231986783], \"y\": [-1.2408725420129765, 0.9239048015512752, 0.36321109287070236, 0.32268570600567065, -0.6019037710314523, 0.36154566601323546, -0.19887047152442655, -1.8970507238549936, -1.0973682611278992, -2.0930159507502832, -0.9230535833796814, -1.2467015360141112, 0.11700548910849033, 0.17335243111945878], \"z\": [-1.0507722027691109, -0.8848712907726599, 2.2996706148048554, 0.7450761078711474, 0.22246332503548172, 0.7044727315116559, 0.39571270085159505, -0.427605864163824, 0.8521062758208101, -1.8000248951614894, 0.2954497622951814, -0.3610130055946781, 0.2695848303197586, 1.8244284377219298]}, {\"hoverlabel\": {\"namelength\": 0}, \"hovertemplate\": \"Sa\\u00edda D=1<br>x1=%{x}<br>x2=%{y}<br>x3=%{z}\", \"legendgroup\": \"Sa\\u00edda D=1\", \"marker\": {\"color\": \"#A3A500\", \"symbol\": \"circle\"}, \"mode\": \"markers\", \"name\": \"Sa\\u00edda D=1\", \"scene\": \"scene\", \"showlegend\": true, \"type\": \"scatter3d\", \"x\": [-0.010960349492323582, 0.40899564856989634, 0.9336084024783181, -0.288383813402097, -0.3492951527834844, 0.0011111704941695769, 0.10288848120597865, -0.06434083236837579, -0.07884880593012442, 0.41619426140587845, -1.1844449896471976, -1.478480637024622, 0.28595474301949375, -1.6529085634349585, 2.4095455296342267, -0.07895955381990878], \"y\": [1.640038350262106, 1.2952949907664273, 0.13199433082569367, -0.08645415864540083, -0.2518865598204608, 1.3100062613407193, 1.3621896362080206, 0.5405790531909429, 1.234229339325969, -0.9394302808114408, 0.8958701161172465, 0.2216498099860034, -1.1886891671456756, 0.6133026926336707, 1.079067070438622, -0.8206298316454579], \"z\": [0.525867695623585, 0.21208413884951746, 0.378939935975077, -0.7889260936696075, -0.4565015185055483, 0.2746498731785091, 0.3960448348095459, 0.26489343816370303, 0.007074453304353776, -0.26270135404122597, -1.1025435834646997, -1.6860614308396034, -0.3502186519612755, -1.9955687629050538, 1.9420038588365316, -0.44371436112444046]}, {\"opacity\": 0.8, \"showscale\": false, \"type\": \"surface\", \"x\": [[-2.0, -1.0, 0.0, 1.0, 2.0], [-2.0, -1.0, 0.0, 1.0, 2.0], [-2.0, -1.0, 0.0, 1.0, 2.0], [-2.0, -1.0, 0.0, 1.0, 2.0], [-2.0, -1.0, 0.0, 1.0, 2.0], [-2.0, -1.0, 0.0, 1.0, 2.0], [-2.0, -1.0, 0.0, 1.0, 2.0], [-2.0, -1.0, 0.0, 1.0, 2.0], [-2.0, -1.0, 0.0, 1.0, 2.0], [-2.0, -1.0, 0.0, 1.0, 2.0], [-2.0, -1.0, 0.0, 1.0, 2.0], [-2.0, -1.0, 0.0, 1.0, 2.0], [-2.0, -1.0, 0.0, 1.0, 2.0], [-2.0, -1.0, 0.0, 1.0, 2.0], [-2.0, -1.0, 0.0, 1.0, 2.0], [-2.0, -1.0, 0.0, 1.0, 2.0]], \"y\": [[-2.0, -2.0, -2.0, -2.0, -2.0], [-1.75, -1.75, -1.75, -1.75, -1.75], [-1.5, -1.5, -1.5, -1.5, -1.5], [-1.25, -1.25, -1.25, -1.25, -1.25], [-1.0, -1.0, -1.0, -1.0, -1.0], [-0.75, -0.75, -0.75, -0.75, -0.75], [-0.5, -0.5, -0.5, -0.5, -0.5], [-0.25, -0.25, -0.25, -0.25, -0.25], [0.0, 0.0, 0.0, 0.0, 0.0], [0.25, 0.25, 0.25, 0.25, 0.25], [0.5, 0.5, 0.5, 0.5, 0.5], [0.75, 0.75, 0.75, 0.75, 0.75], [1.0, 1.0, 1.0, 1.0, 1.0], [1.25, 1.25, 1.25, 1.25, 1.25], [1.5, 1.5, 1.5, 1.5, 1.5], [1.75, 1.75, 1.75, 1.75, 1.75]], \"z\": [[-2.5542411761203, -1.709642197563841, -0.8650432190073817, -0.020444240450922316, 0.824154738105537], [-2.4461107737443775, -1.6015117951879183, -0.7569128166314589, 0.0876861619250004, 0.9322851404814597], [-2.337980371368455, -1.4933813928119954, -0.6487824142555362, 0.1958165643009231, 1.0404155428573825], [-2.229849968992532, -1.385250990436073, -0.5406520118796135, 0.3039469666768458, 1.148545945233305], [-2.1217195666166093, -1.27712058806015, -0.43252160950369084, 0.4120773690527685, 1.2566763476092278], [-2.013589164240687, -1.1689901856842275, -0.3243912071277681, 0.5202077714286912, 1.3648067499851506], [-1.905458761864764, -1.0608597833083047, -0.21626080475184542, 0.6283381738046139, 1.4729371523610733], [-1.7973283594888414, -0.952729380932382, -0.10813040237592271, 0.7364685761805366, 1.581067554736996], [-1.6891979571129185, -0.8445989785564593, 0.0, 0.8445989785564593, 1.6891979571129185], [-1.581067554736996, -0.7364685761805366, 0.10813040237592271, 0.952729380932382, 1.7973283594888414], [-1.4729371523610733, -0.6283381738046139, 0.21626080475184542, 1.0608597833083047, 1.905458761864764], [-1.3648067499851506, -0.5202077714286912, 0.3243912071277681, 1.1689901856842275, 2.013589164240687], [-1.2566763476092278, -0.4120773690527685, 0.43252160950369084, 1.27712058806015, 2.1217195666166093], [-1.148545945233305, -0.3039469666768458, 0.5406520118796135, 1.385250990436073, 2.229849968992532], [-1.0404155428573825, -0.1958165643009231, 0.6487824142555362, 1.4933813928119954, 2.337980371368455], [-0.9322851404814597, -0.0876861619250004, 0.7569128166314589, 1.6015117951879183, 2.4461107737443775]]}],\n",
              "                        {\"height\": 800, \"legend\": {\"font\": {\"size\": 15}, \"tracegroupgap\": 0}, \"margin\": {\"t\": 60}, \"scene\": {\"domain\": {\"x\": [0.0, 1.0], \"y\": [0.0, 1.0]}, \"xaxis\": {\"title\": {\"text\": \"x1\"}}, \"yaxis\": {\"title\": {\"text\": \"x2\"}}, \"zaxis\": {\"title\": {\"text\": \"x3\"}}}, \"showlegend\": true, \"template\": {\"data\": {\"bar\": [{\"error_x\": {\"color\": \"rgb(51,51,51)\"}, \"error_y\": {\"color\": \"rgb(51,51,51)\"}, \"marker\": {\"line\": {\"color\": \"rgb(237,237,237)\", \"width\": 0.5}}, \"type\": \"bar\"}], \"barpolar\": [{\"marker\": {\"line\": {\"color\": \"rgb(237,237,237)\", \"width\": 0.5}}, \"type\": \"barpolar\"}], \"carpet\": [{\"aaxis\": {\"endlinecolor\": \"rgb(51,51,51)\", \"gridcolor\": \"white\", \"linecolor\": \"white\", \"minorgridcolor\": \"white\", \"startlinecolor\": \"rgb(51,51,51)\"}, \"baxis\": {\"endlinecolor\": \"rgb(51,51,51)\", \"gridcolor\": \"white\", \"linecolor\": \"white\", \"minorgridcolor\": \"white\", \"startlinecolor\": \"rgb(51,51,51)\"}, \"type\": \"carpet\"}], \"choropleth\": [{\"colorbar\": {\"outlinewidth\": 0, \"tickcolor\": \"rgb(237,237,237)\", \"ticklen\": 6, \"ticks\": \"inside\"}, \"type\": \"choropleth\"}], \"contour\": [{\"colorbar\": {\"outlinewidth\": 0, \"tickcolor\": \"rgb(237,237,237)\", \"ticklen\": 6, \"ticks\": \"inside\"}, \"colorscale\": [[0, \"rgb(20,44,66)\"], [1, \"rgb(90,179,244)\"]], \"type\": \"contour\"}], \"contourcarpet\": [{\"colorbar\": {\"outlinewidth\": 0, \"tickcolor\": \"rgb(237,237,237)\", \"ticklen\": 6, \"ticks\": \"inside\"}, \"type\": \"contourcarpet\"}], \"heatmap\": [{\"colorbar\": {\"outlinewidth\": 0, \"tickcolor\": \"rgb(237,237,237)\", \"ticklen\": 6, \"ticks\": \"inside\"}, \"colorscale\": [[0, \"rgb(20,44,66)\"], [1, \"rgb(90,179,244)\"]], \"type\": \"heatmap\"}], \"heatmapgl\": [{\"colorbar\": {\"outlinewidth\": 0, \"tickcolor\": \"rgb(237,237,237)\", \"ticklen\": 6, \"ticks\": \"inside\"}, \"colorscale\": [[0, \"rgb(20,44,66)\"], [1, \"rgb(90,179,244)\"]], \"type\": \"heatmapgl\"}], \"histogram\": [{\"marker\": {\"colorbar\": {\"outlinewidth\": 0, \"tickcolor\": \"rgb(237,237,237)\", \"ticklen\": 6, \"ticks\": \"inside\"}}, \"type\": \"histogram\"}], \"histogram2d\": [{\"colorbar\": {\"outlinewidth\": 0, \"tickcolor\": \"rgb(237,237,237)\", \"ticklen\": 6, \"ticks\": \"inside\"}, \"colorscale\": [[0, \"rgb(20,44,66)\"], [1, \"rgb(90,179,244)\"]], \"type\": \"histogram2d\"}], \"histogram2dcontour\": [{\"colorbar\": {\"outlinewidth\": 0, \"tickcolor\": \"rgb(237,237,237)\", \"ticklen\": 6, \"ticks\": \"inside\"}, \"colorscale\": [[0, \"rgb(20,44,66)\"], [1, \"rgb(90,179,244)\"]], \"type\": \"histogram2dcontour\"}], \"mesh3d\": [{\"colorbar\": {\"outlinewidth\": 0, \"tickcolor\": \"rgb(237,237,237)\", \"ticklen\": 6, \"ticks\": \"inside\"}, \"type\": \"mesh3d\"}], \"parcoords\": [{\"line\": {\"colorbar\": {\"outlinewidth\": 0, \"tickcolor\": \"rgb(237,237,237)\", \"ticklen\": 6, \"ticks\": \"inside\"}}, \"type\": \"parcoords\"}], \"pie\": [{\"automargin\": true, \"type\": \"pie\"}], \"scatter\": [{\"marker\": {\"colorbar\": {\"outlinewidth\": 0, \"tickcolor\": \"rgb(237,237,237)\", \"ticklen\": 6, \"ticks\": \"inside\"}}, \"type\": \"scatter\"}], \"scatter3d\": [{\"line\": {\"colorbar\": {\"outlinewidth\": 0, \"tickcolor\": \"rgb(237,237,237)\", \"ticklen\": 6, \"ticks\": \"inside\"}}, \"marker\": {\"colorbar\": {\"outlinewidth\": 0, \"tickcolor\": \"rgb(237,237,237)\", \"ticklen\": 6, \"ticks\": \"inside\"}}, \"type\": \"scatter3d\"}], \"scattercarpet\": [{\"marker\": {\"colorbar\": {\"outlinewidth\": 0, \"tickcolor\": \"rgb(237,237,237)\", \"ticklen\": 6, \"ticks\": \"inside\"}}, \"type\": \"scattercarpet\"}], \"scattergeo\": [{\"marker\": {\"colorbar\": {\"outlinewidth\": 0, \"tickcolor\": \"rgb(237,237,237)\", \"ticklen\": 6, \"ticks\": \"inside\"}}, \"type\": \"scattergeo\"}], \"scattergl\": [{\"marker\": {\"colorbar\": {\"outlinewidth\": 0, \"tickcolor\": \"rgb(237,237,237)\", \"ticklen\": 6, \"ticks\": \"inside\"}}, \"type\": \"scattergl\"}], \"scattermapbox\": [{\"marker\": {\"colorbar\": {\"outlinewidth\": 0, \"tickcolor\": \"rgb(237,237,237)\", \"ticklen\": 6, \"ticks\": \"inside\"}}, \"type\": \"scattermapbox\"}], \"scatterpolar\": [{\"marker\": {\"colorbar\": {\"outlinewidth\": 0, \"tickcolor\": \"rgb(237,237,237)\", \"ticklen\": 6, \"ticks\": \"inside\"}}, \"type\": \"scatterpolar\"}], \"scatterpolargl\": [{\"marker\": {\"colorbar\": {\"outlinewidth\": 0, \"tickcolor\": \"rgb(237,237,237)\", \"ticklen\": 6, \"ticks\": \"inside\"}}, \"type\": \"scatterpolargl\"}], \"scatterternary\": [{\"marker\": {\"colorbar\": {\"outlinewidth\": 0, \"tickcolor\": \"rgb(237,237,237)\", \"ticklen\": 6, \"ticks\": \"inside\"}}, \"type\": \"scatterternary\"}], \"surface\": [{\"colorbar\": {\"outlinewidth\": 0, \"tickcolor\": \"rgb(237,237,237)\", \"ticklen\": 6, \"ticks\": \"inside\"}, \"colorscale\": [[0, \"rgb(20,44,66)\"], [1, \"rgb(90,179,244)\"]], \"type\": \"surface\"}], \"table\": [{\"cells\": {\"fill\": {\"color\": \"rgb(237,237,237)\"}, \"line\": {\"color\": \"white\"}}, \"header\": {\"fill\": {\"color\": \"rgb(217,217,217)\"}, \"line\": {\"color\": \"white\"}}, \"type\": \"table\"}]}, \"layout\": {\"annotationdefaults\": {\"arrowhead\": 0, \"arrowwidth\": 1}, \"coloraxis\": {\"colorbar\": {\"outlinewidth\": 0, \"tickcolor\": \"rgb(237,237,237)\", \"ticklen\": 6, \"ticks\": \"inside\"}}, \"colorscale\": {\"sequential\": [[0, \"rgb(20,44,66)\"], [1, \"rgb(90,179,244)\"]], \"sequentialminus\": [[0, \"rgb(20,44,66)\"], [1, \"rgb(90,179,244)\"]]}, \"colorway\": [\"#F8766D\", \"#A3A500\", \"#00BF7D\", \"#00B0F6\", \"#E76BF3\"], \"font\": {\"color\": \"rgb(51,51,51)\"}, \"geo\": {\"bgcolor\": \"white\", \"lakecolor\": \"white\", \"landcolor\": \"rgb(237,237,237)\", \"showlakes\": true, \"showland\": true, \"subunitcolor\": \"white\"}, \"hoverlabel\": {\"align\": \"left\"}, \"hovermode\": \"closest\", \"paper_bgcolor\": \"white\", \"plot_bgcolor\": \"rgb(237,237,237)\", \"polar\": {\"angularaxis\": {\"gridcolor\": \"white\", \"linecolor\": \"white\", \"showgrid\": true, \"tickcolor\": \"rgb(51,51,51)\", \"ticks\": \"outside\"}, \"bgcolor\": \"rgb(237,237,237)\", \"radialaxis\": {\"gridcolor\": \"white\", \"linecolor\": \"white\", \"showgrid\": true, \"tickcolor\": \"rgb(51,51,51)\", \"ticks\": \"outside\"}}, \"scene\": {\"xaxis\": {\"backgroundcolor\": \"rgb(237,237,237)\", \"gridcolor\": \"white\", \"gridwidth\": 2, \"linecolor\": \"white\", \"showbackground\": true, \"showgrid\": true, \"tickcolor\": \"rgb(51,51,51)\", \"ticks\": \"outside\", \"zerolinecolor\": \"white\"}, \"yaxis\": {\"backgroundcolor\": \"rgb(237,237,237)\", \"gridcolor\": \"white\", \"gridwidth\": 2, \"linecolor\": \"white\", \"showbackground\": true, \"showgrid\": true, \"tickcolor\": \"rgb(51,51,51)\", \"ticks\": \"outside\", \"zerolinecolor\": \"white\"}, \"zaxis\": {\"backgroundcolor\": \"rgb(237,237,237)\", \"gridcolor\": \"white\", \"gridwidth\": 2, \"linecolor\": \"white\", \"showbackground\": true, \"showgrid\": true, \"tickcolor\": \"rgb(51,51,51)\", \"ticks\": \"outside\", \"zerolinecolor\": \"white\"}}, \"shapedefaults\": {\"fillcolor\": \"black\", \"line\": {\"width\": 0}, \"opacity\": 0.3}, \"ternary\": {\"aaxis\": {\"gridcolor\": \"white\", \"linecolor\": \"white\", \"showgrid\": true, \"tickcolor\": \"rgb(51,51,51)\", \"ticks\": \"outside\"}, \"baxis\": {\"gridcolor\": \"white\", \"linecolor\": \"white\", \"showgrid\": true, \"tickcolor\": \"rgb(51,51,51)\", \"ticks\": \"outside\"}, \"bgcolor\": \"rgb(237,237,237)\", \"caxis\": {\"gridcolor\": \"white\", \"linecolor\": \"white\", \"showgrid\": true, \"tickcolor\": \"rgb(51,51,51)\", \"ticks\": \"outside\"}}, \"xaxis\": {\"automargin\": true, \"gridcolor\": \"white\", \"linecolor\": \"white\", \"showgrid\": true, \"tickcolor\": \"rgb(51,51,51)\", \"ticks\": \"outside\", \"title\": {\"standoff\": 15}, \"zerolinecolor\": \"white\"}, \"yaxis\": {\"automargin\": true, \"gridcolor\": \"white\", \"linecolor\": \"white\", \"showgrid\": true, \"tickcolor\": \"rgb(51,51,51)\", \"ticks\": \"outside\", \"title\": {\"standoff\": 15}, \"zerolinecolor\": \"white\"}}}, \"title\": {\"font\": {\"family\": \"helvetica\", \"size\": 30}, \"text\": \"Solu\\u00e7\\u00e3o Encontrada pelo Algoritmo Perceptron\", \"x\": 0.5, \"xanchor\": \"center\", \"xref\": \"paper\"}},\n",
              "                        {\"responsive\": true}\n",
              "                    ).then(function(){\n",
              "                            \n",
              "var gd = document.getElementById('38607333-b594-4ab7-8f9b-b5d8f9f52948');\n",
              "var x = new MutationObserver(function (mutations, observer) {{\n",
              "        var display = window.getComputedStyle(gd).display;\n",
              "        if (!display || display === 'none') {{\n",
              "            console.log([gd, 'removed!']);\n",
              "            Plotly.purge(gd);\n",
              "            observer.disconnect();\n",
              "        }}\n",
              "}});\n",
              "\n",
              "// Listen for the removal of the full notebook cells\n",
              "var notebookContainer = gd.closest('#notebook-container');\n",
              "if (notebookContainer) {{\n",
              "    x.observe(notebookContainer, {childList: true});\n",
              "}}\n",
              "\n",
              "// Listen for the clearing of the current output cell\n",
              "var outputEl = gd.closest('.output');\n",
              "if (outputEl) {{\n",
              "    x.observe(outputEl, {childList: true});\n",
              "}}\n",
              "\n",
              "                        })\n",
              "                };\n",
              "                \n",
              "            </script>\n",
              "        </div>\n",
              "</body>\n",
              "</html>"
            ]
          },
          "metadata": {
            "tags": []
          }
        }
      ]
    },
    {
      "cell_type": "code",
      "metadata": {
        "colab": {
          "base_uri": "https://localhost:8080/"
        },
        "id": "1BC-MlAT19N2",
        "outputId": "dd6036f3-bc4e-4a2b-e304-4bf981cb111a"
      },
      "source": [
        "pesos = np.array([5.0, -8.0, 20.0])\n",
        "pesosIniciais = np.array([5.0, -8.0, 20.0])\n",
        "logpesos = [[5],[-8],[20]]\n",
        "taxaAprendizagem = 0.1\n",
        "\n",
        "treinar()\n",
        "\n",
        "print('Rede neural treinada')"
      ],
      "execution_count": 38,
      "outputs": [
        {
          "output_type": "stream",
          "text": [
            "\n",
            "TOTAL DE ERROS: 22\n",
            "NÚMERO DE EPOCAS: 1\n",
            "\n",
            "TOTAL DE ERROS: 21\n",
            "NÚMERO DE EPOCAS: 2\n",
            "\n",
            "TOTAL DE ERROS: 21\n",
            "NÚMERO DE EPOCAS: 3\n",
            "\n",
            "TOTAL DE ERROS: 20\n",
            "NÚMERO DE EPOCAS: 4\n",
            "\n",
            "TOTAL DE ERROS: 20\n",
            "NÚMERO DE EPOCAS: 5\n",
            "\n",
            "TOTAL DE ERROS: 23\n",
            "NÚMERO DE EPOCAS: 6\n",
            "\n",
            "TOTAL DE ERROS: 18\n",
            "NÚMERO DE EPOCAS: 7\n",
            "\n",
            "TOTAL DE ERROS: 18\n",
            "NÚMERO DE EPOCAS: 8\n",
            "\n",
            "TOTAL DE ERROS: 19\n",
            "NÚMERO DE EPOCAS: 9\n",
            "\n",
            "TOTAL DE ERROS: 19\n",
            "NÚMERO DE EPOCAS: 10\n",
            "\n",
            "TOTAL DE ERROS: 16\n",
            "NÚMERO DE EPOCAS: 11\n",
            "\n",
            "TOTAL DE ERROS: 13\n",
            "NÚMERO DE EPOCAS: 12\n",
            "\n",
            "TOTAL DE ERROS: 10\n",
            "NÚMERO DE EPOCAS: 13\n",
            "\n",
            "TOTAL DE ERROS: 10\n",
            "NÚMERO DE EPOCAS: 14\n",
            "\n",
            "TOTAL DE ERROS: 7\n",
            "NÚMERO DE EPOCAS: 15\n",
            "\n",
            "TOTAL DE ERROS: 7\n",
            "NÚMERO DE EPOCAS: 16\n",
            "\n",
            "TOTAL DE ERROS: 7\n",
            "NÚMERO DE EPOCAS: 17\n",
            "\n",
            "TOTAL DE ERROS: 7\n",
            "NÚMERO DE EPOCAS: 18\n",
            "\n",
            "TOTAL DE ERROS: 3\n",
            "NÚMERO DE EPOCAS: 19\n",
            "\n",
            "TOTAL DE ERROS: 4\n",
            "NÚMERO DE EPOCAS: 20\n",
            "\n",
            "TOTAL DE ERROS: 2\n",
            "NÚMERO DE EPOCAS: 21\n",
            "\n",
            "TOTAL DE ERROS: 3\n",
            "NÚMERO DE EPOCAS: 22\n",
            "\n",
            "TOTAL DE ERROS: 4\n",
            "NÚMERO DE EPOCAS: 23\n",
            "\n",
            "TOTAL DE ERROS: 7\n",
            "NÚMERO DE EPOCAS: 24\n",
            "\n",
            "TOTAL DE ERROS: 2\n",
            "NÚMERO DE EPOCAS: 25\n",
            "\n",
            "TOTAL DE ERROS: 4\n",
            "NÚMERO DE EPOCAS: 26\n",
            "\n",
            "TOTAL DE ERROS: 2\n",
            "NÚMERO DE EPOCAS: 27\n",
            "\n",
            "TOTAL DE ERROS: 4\n",
            "NÚMERO DE EPOCAS: 28\n",
            "\n",
            "TOTAL DE ERROS: 2\n",
            "NÚMERO DE EPOCAS: 29\n",
            "\n",
            "TOTAL DE ERROS: 3\n",
            "NÚMERO DE EPOCAS: 30\n",
            "\n",
            "TOTAL DE ERROS: 4\n",
            "NÚMERO DE EPOCAS: 31\n",
            "\n",
            "TOTAL DE ERROS: 4\n",
            "NÚMERO DE EPOCAS: 32\n",
            "\n",
            "TOTAL DE ERROS: 3\n",
            "NÚMERO DE EPOCAS: 33\n",
            "\n",
            "TOTAL DE ERROS: 2\n",
            "NÚMERO DE EPOCAS: 34\n",
            "\n",
            "TOTAL DE ERROS: 2\n",
            "NÚMERO DE EPOCAS: 35\n",
            "\n",
            "TOTAL DE ERROS: 4\n",
            "NÚMERO DE EPOCAS: 36\n",
            "\n",
            "TOTAL DE ERROS: 4\n",
            "NÚMERO DE EPOCAS: 37\n",
            "\n",
            "TOTAL DE ERROS: 2\n",
            "NÚMERO DE EPOCAS: 38\n",
            "\n",
            "TOTAL DE ERROS: 4\n",
            "NÚMERO DE EPOCAS: 39\n",
            "\n",
            "TOTAL DE ERROS: 2\n",
            "NÚMERO DE EPOCAS: 40\n",
            "\n",
            "TOTAL DE ERROS: 1\n",
            "NÚMERO DE EPOCAS: 41\n",
            "Rede neural treinada\n"
          ],
          "name": "stdout"
        }
      ]
    },
    {
      "cell_type": "code",
      "metadata": {
        "colab": {
          "base_uri": "https://localhost:8080/",
          "height": 229
        },
        "id": "xeeBqD7qK8Lh",
        "outputId": "e4c371a6-cec0-48e0-bfc5-92d418f26e9e"
      },
      "source": [
        "fig = make_subplots(rows=2, cols=3)\n",
        "\n",
        "for column in range(1,4):\n",
        "    for row in range(1,3):\n",
        "        fig.add_trace(\n",
        "            go.scatter3d(x=data_standard['x1'], \n",
        "                         y=data_standard['x2'], \n",
        "                         z=data_standard['x3'],\n",
        "                        color= data['d'].astype('category'),\n",
        "                        height=800),\n",
        "            row=row, col=column)\n",
        "        \n",
        "'''\n",
        "for i in np.arange(1, 42, 10):\n",
        "    \n",
        "\n",
        "    (x, y) = np.meshgrid(np.arange(-2, 2.1, 1), np.arange(-2, 2, .25))\n",
        "\n",
        "\n",
        "    z = (x*logpesos[0][i] + y*logpesos[1][i])/-logpesos[2][i] \n",
        "    fig.add_surface(z = z, y = y, x = x, opacity=0.8, showscale=False)\n",
        "\n",
        "    fig.update_layout(title_text = 'Solução Encontrada pelo Algoritmo Perceptron',\n",
        "                      title_font = {'family':'helvetica',\n",
        "                                    'size':30},\n",
        "                      title_xref = 'paper',\n",
        "                      title_x = 0.5,\n",
        "                      title_xanchor = 'center',\n",
        "                      height = 800,\n",
        "                      legend_font=dict(size = 15),\n",
        "                      template = 'ggplot2',\n",
        "                      showlegend = True\n",
        "                      )                                  \n",
        "\n",
        "    HTML(fig.to_html())\n",
        "'''"
      ],
      "execution_count": 39,
      "outputs": [
        {
          "output_type": "error",
          "ename": "TypeError",
          "evalue": "ignored",
          "traceback": [
            "\u001b[0;31m---------------------------------------------------------------------------\u001b[0m",
            "\u001b[0;31mTypeError\u001b[0m                                 Traceback (most recent call last)",
            "\u001b[0;32m<ipython-input-39-a8467171bc19>\u001b[0m in \u001b[0;36m<module>\u001b[0;34m()\u001b[0m\n\u001b[1;32m      8\u001b[0m                          \u001b[0mz\u001b[0m\u001b[0;34m=\u001b[0m\u001b[0mdata_standard\u001b[0m\u001b[0;34m[\u001b[0m\u001b[0;34m'x3'\u001b[0m\u001b[0;34m]\u001b[0m\u001b[0;34m,\u001b[0m\u001b[0;34m\u001b[0m\u001b[0;34m\u001b[0m\u001b[0m\n\u001b[1;32m      9\u001b[0m                         \u001b[0mcolor\u001b[0m\u001b[0;34m=\u001b[0m \u001b[0mdata\u001b[0m\u001b[0;34m[\u001b[0m\u001b[0;34m'd'\u001b[0m\u001b[0;34m]\u001b[0m\u001b[0;34m.\u001b[0m\u001b[0mastype\u001b[0m\u001b[0;34m(\u001b[0m\u001b[0;34m'category'\u001b[0m\u001b[0;34m)\u001b[0m\u001b[0;34m,\u001b[0m\u001b[0;34m\u001b[0m\u001b[0;34m\u001b[0m\u001b[0m\n\u001b[0;32m---> 10\u001b[0;31m                         height=800),\n\u001b[0m\u001b[1;32m     11\u001b[0m             row=row, col=column)\n\u001b[1;32m     12\u001b[0m \u001b[0;34m\u001b[0m\u001b[0m\n",
            "\u001b[0;31mTypeError\u001b[0m: 'module' object is not callable"
          ]
        }
      ]
    }
  ]
}